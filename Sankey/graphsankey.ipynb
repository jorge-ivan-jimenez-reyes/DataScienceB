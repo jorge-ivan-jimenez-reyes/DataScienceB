{
 "cells": [
  {
   "cell_type": "code",
   "execution_count": null,
   "id": "initial_id",
   "metadata": {
    "collapsed": true
   },
   "outputs": [],
   "source": [
    "import pandas as pd\n",
    "import numpy as np\n",
    "import matplotlib.pyplot as plt\n",
    "import seaborn as sns\n",
    "import os"
   ]
  },
  {
   "metadata": {},
   "cell_type": "code",
   "outputs": [],
   "execution_count": null,
   "source": [
    "ruta='sample_data/'\n",
    "contenido=os.listdir(ruta)\n",
    "archivos=list(filter(lambda x: 'mnist' in x, contenido))\n",
    "archivos"
   ],
   "id": "229149608afdd9c8"
  },
  {
   "metadata": {},
   "cell_type": "code",
   "outputs": [],
   "execution_count": null,
   "source": [
    "df=pd.read_csv(ruta+archivos[0], header=None)\n",
    "df.shape"
   ],
   "id": "79c3831473e15954"
  },
  {
   "metadata": {},
   "cell_type": "code",
   "outputs": [],
   "execution_count": null,
   "source": "df.head()",
   "id": "c6fe75b8bc3b4b77"
  },
  {
   "metadata": {},
   "cell_type": "code",
   "outputs": [],
   "execution_count": null,
   "source": "df.iloc[0,:].values.shape",
   "id": "aab79b13a45bd4f3"
  },
  {
   "metadata": {},
   "cell_type": "code",
   "outputs": [],
   "execution_count": null,
   "source": "df.iloc[0,1:].values",
   "id": "cd0839012c197512"
  },
  {
   "metadata": {},
   "cell_type": "code",
   "outputs": [],
   "execution_count": null,
   "source": "pic=df.iloc[0,1:].values.reshape((28,28))",
   "id": "d660e3676d26e5d6"
  },
  {
   "metadata": {},
   "cell_type": "code",
   "outputs": [],
   "execution_count": null,
   "source": [
    "plt.imshow(pic)\n",
    "plt.show()"
   ],
   "id": "d66eea7ab2051dc8"
  },
  {
   "metadata": {},
   "cell_type": "code",
   "outputs": [],
   "execution_count": null,
   "source": [
    "plt.imshow(pic, cmap='gray')\n",
    "plt.axis('off')\n",
    "plt.show()"
   ],
   "id": "58de006c9d0ed015"
  },
  {
   "metadata": {},
   "cell_type": "code",
   "outputs": [],
   "execution_count": null,
   "source": [
    "# matriz 10 x 10 de los numeros\n",
    "fig, axs=plt.subplots(10,10, figsize=(15,15))\n",
    "\n",
    "for row in range(10):\n",
    "  data=df[df[0] == row]\n",
    "  for col in range(10):\n",
    "    pic = data.iloc[col,1:].values.reshape((28,28))\n",
    "    axs[row, col].imshow(pic, cmap='gray_r')\n",
    "    axs[row, col].axis('off')\n",
    "\n",
    "plt.show()"
   ],
   "id": "762ed8abdf040833"
  },
  {
   "metadata": {},
   "cell_type": "code",
   "outputs": [],
   "execution_count": null,
   "source": [
    "import plotly.express as px\n",
    "fig = px.imshow(pic, color_continuous_scale='gray_r')\n",
    "fig.update_layout(coloraxis_showscale=False)\n",
    "fig.update_xaxes(showticklabels=False)\n",
    "fig.update_yaxes(showticklabels=False)\n",
    "fig.show()"
   ],
   "id": "d75888a879ab2863"
  },
  {
   "metadata": {},
   "cell_type": "code",
   "outputs": [],
   "execution_count": null,
   "source": "!wget -O logo.png https://logospng.org/download/apple/logo-apple-4096.png",
   "id": "ea4404b51b2373b2"
  },
  {
   "metadata": {},
   "cell_type": "code",
   "outputs": [],
   "execution_count": null,
   "source": [
    "!pip install svglib\n",
    "!pip install reportlab\n",
    "!pip install Pillow"
   ],
   "id": "f5db2265d35c9ca6"
  },
  {
   "metadata": {},
   "cell_type": "code",
   "outputs": [],
   "execution_count": null,
   "source": [
    "from PIL import Image\n",
    "img = Image.open('logo.png')img, color\n",
    "np_img = np.asarray(img)\n",
    "\n",
    "fig = px.imshow(pic, color_continuous_scale='gray_r')\n",
    "fig.update_layout(\n",
    "    xaxis=dict(visible=False),\n",
    "    yaxis=dict(visible=False),\n",
    "    coloraxis_showscale=False,\n",
    ")\n",
    "fig.show()"
   ],
   "id": "37aac2b23fb9b60f"
  },
  {
   "metadata": {},
   "cell_type": "code",
   "outputs": [],
   "execution_count": null,
   "source": [
    "data = {\n",
    "   \"iPhone\": \"$70B\",\n",
    "   \"Mac\": \"$8B\",\n",
    "   \"iPad\": \"$7B\",\n",
    "   \"Watch, AirPods, Home\": \"$12B\",\n",
    "   \"Products\": \"$96B\",\n",
    "   \"Services\": \"$23B\",\n",
    "   \"Revenue\": \"$120B\",\n",
    "   \"Gross profit\": \"$55B\",\n",
    "   \"Cost of revenue\": \"$65B\",\n",
    "   \"Operating profit\": \"$40B\",\n",
    "   \"Operating expenses\": \"$14B\",\n",
    "   \"Product costs\": \"$58B\",\n",
    "   \"Service costs\": \"$6B\",\n",
    "   \"Net profit\": \"$34B\",\n",
    "   \"Tax\": \"$6B\",\n",
    "   \"Other\": \"$50M\",\n",
    "   \"R&D\": \"$8B\",\n",
    "   \"SG&A\": \"$7B\"\n",
    "}\n",
    "data.values()"
   ],
   "id": "28c2e8e4131b7312"
  },
  {
   "metadata": {},
   "cell_type": "code",
   "outputs": [],
   "execution_count": null,
   "source": [
    "colors=[\"hsl(0,0%,50%)\" for n in range(7)]\n",
    "colors += [\"hsl(120,75%,50%)\"]\n",
    "colors += [\"hsl(0,75%,50%)\"]\n",
    "colors += [\"hsl(120,75%,50%)\"]\n",
    "colors += [\"hsl(0,75%,50%)\"]*3\n",
    "colors += [\"hsl(120,75%,50%)\"]\n",
    "colors += [\"hsl(0,75%,50%)\"]*4"
   ],
   "id": "24301cd2ff2a1611"
  },
  {
   "metadata": {},
   "cell_type": "code",
   "outputs": [],
   "execution_count": null,
   "source": [
    "nodes={\"label\":list(data.keys()),\n",
    "       \"customdata\":list(data.values()),\n",
    "       \"color\":colors}"
   ],
   "id": "cae5e21be38182ee"
  },
  {
   "metadata": {},
   "cell_type": "code",
   "outputs": [],
   "execution_count": null,
   "source": [
    "links=[\n",
    " {\"source\":0, \"target\":4, \"value\":70},\n",
    " {\"source\":1, \"target\":4, \"value\":8},\n",
    " {\"source\":2, \"target\":4, \"value\":7},\n",
    " {\"source\":3, \"target\":4, \"value\":12},\n",
    " {\"source\":4, \"target\":6, \"value\":96},\n",
    " {\"source\":5, \"target\":6, \"value\":23},\n",
    " {\"source\":6, \"target\":7, \"value\":55},\n",
    " {\"source\":6, \"target\":8, \"value\":65},\n",
    " {\"source\":7, \"target\":9, \"value\":40},\n",
    " {\"source\":7, \"target\":10, \"value\":14},\n",
    " {\"source\":8, \"target\":11, \"value\":58},\n",
    " {\"source\":8, \"target\":12, \"value\":6},\n",
    " {\"source\":9, \"target\":13, \"value\":34},\n",
    " {\"source\":9, \"target\":14, \"value\":6},\n",
    " {\"source\":9, \"target\":15, \"value\":.05},\n",
    " {\"source\":10, \"target\":16, \"value\": 8},\n",
    " {\"source\":10, \"target\":17, \"value\": 7},\n",
    "]"
   ],
   "id": "86c44a9f35f7c2ba"
  }
 ],
 "metadata": {
  "kernelspec": {
   "display_name": "Python 3",
   "language": "python",
   "name": "python3"
  },
  "language_info": {
   "codemirror_mode": {
    "name": "ipython",
    "version": 2
   },
   "file_extension": ".py",
   "mimetype": "text/x-python",
   "name": "python",
   "nbconvert_exporter": "python",
   "pygments_lexer": "ipython2",
   "version": "2.7.6"
  }
 },
 "nbformat": 4,
 "nbformat_minor": 5
}
