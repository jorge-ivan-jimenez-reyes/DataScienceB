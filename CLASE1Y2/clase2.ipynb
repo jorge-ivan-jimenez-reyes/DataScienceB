{
 "cells": [
  {
   "cell_type": "code",
   "id": "initial_id",
   "metadata": {
    "collapsed": true,
    "ExecuteTime": {
     "end_time": "2025-02-05T03:26:21.109446Z",
     "start_time": "2025-02-05T03:26:21.107996Z"
    }
   },
   "source": [
    "import pandas as pd\n",
    "import numpy as np\n",
    "import matplotlib.pyplot as plt\n",
    "import seaborn as sns"
   ],
   "outputs": [],
   "execution_count": 1
  },
  {
   "metadata": {},
   "cell_type": "code",
   "outputs": [],
   "execution_count": null,
   "source": "df=pd.read_csv(url)",
   "id": "5798a1b184b06565"
  },
  {
   "metadata": {},
   "cell_type": "code",
   "outputs": [],
   "execution_count": null,
   "source": "df.columns",
   "id": "75557fb0aaa6b534"
  },
  {
   "metadata": {},
   "cell_type": "code",
   "outputs": [],
   "execution_count": null,
   "source": [
    "columns= ['region', 'price', 'type', 'sqfeet', 'beds',\n",
    "       'baths', 'cats_allowed', 'dogs_allowed', 'smoking_allowed',\n",
    "       'wheelchair_access', 'electric_vehicle_charge', 'comes_furnished',\n",
    "       'laundry_options', 'parking_options', 'description','lat','long']\n",
    "\n",
    "df=df[columns]"
   ],
   "id": "3ac485d1914ee761"
  },
  {
   "metadata": {},
   "cell_type": "code",
   "outputs": [],
   "execution_count": null,
   "source": [
    "# Revisando por datos faltantes\n",
    "# Celdas con Nan values  -> Not a number\n",
    "df.isna().sum()"
   ],
   "id": "3d2718d6383f6ae9"
  },
  {
   "metadata": {},
   "cell_type": "code",
   "outputs": [],
   "execution_count": null,
   "source": "df.info()",
   "id": "8b0e0109322e7171"
  },
  {
   "metadata": {},
   "cell_type": "code",
   "outputs": [],
   "execution_count": null,
   "source": [
    "fig, axs = plt.subplots(figsize=(6,3))\n",
    "sns.heatmap(df.isna(), cmap='viridis')\n",
    "plt.show()"
   ],
   "id": "d1d176c09afd7278"
  }
 ],
 "metadata": {
  "kernelspec": {
   "display_name": "Python 3",
   "language": "python",
   "name": "python3"
  },
  "language_info": {
   "codemirror_mode": {
    "name": "ipython",
    "version": 2
   },
   "file_extension": ".py",
   "mimetype": "text/x-python",
   "name": "python",
   "nbconvert_exporter": "python",
   "pygments_lexer": "ipython2",
   "version": "2.7.6"
  }
 },
 "nbformat": 4,
 "nbformat_minor": 5
}
