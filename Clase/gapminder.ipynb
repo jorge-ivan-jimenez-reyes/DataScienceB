{
 "cells": [
  {
   "cell_type": "code",
   "id": "initial_id",
   "metadata": {
    "collapsed": true,
    "ExecuteTime": {
     "end_time": "2025-03-05T17:31:42.858354Z",
     "start_time": "2025-03-05T17:31:42.829923Z"
    }
   },
   "source": [
    "import pandas as pd\n",
    "import plotly.express as px\n",
    "import sns\n",
    "from matplotlib import pyplot as plt\n",
    "\n",
    "# Cargar datos de Gapminder desde Plotly\n",
    "df = px.data.gapminder()\n",
    "\n",
    "# Mostrar las primeras filas del DataFrame\n",
    "df.head()\n"
   ],
   "outputs": [
    {
     "ename": "ModuleNotFoundError",
     "evalue": "No module named 'sns'",
     "output_type": "error",
     "traceback": [
      "\u001B[0;31m---------------------------------------------------------------------------\u001B[0m",
      "\u001B[0;31mModuleNotFoundError\u001B[0m                       Traceback (most recent call last)",
      "Cell \u001B[0;32mIn[4], line 3\u001B[0m\n\u001B[1;32m      1\u001B[0m \u001B[38;5;28;01mimport\u001B[39;00m \u001B[38;5;21;01mpandas\u001B[39;00m \u001B[38;5;28;01mas\u001B[39;00m \u001B[38;5;21;01mpd\u001B[39;00m\n\u001B[1;32m      2\u001B[0m \u001B[38;5;28;01mimport\u001B[39;00m \u001B[38;5;21;01mplotly\u001B[39;00m\u001B[38;5;21;01m.\u001B[39;00m\u001B[38;5;21;01mexpress\u001B[39;00m \u001B[38;5;28;01mas\u001B[39;00m \u001B[38;5;21;01mpx\u001B[39;00m\n\u001B[0;32m----> 3\u001B[0m \u001B[38;5;28;01mimport\u001B[39;00m \u001B[38;5;21;01msns\u001B[39;00m\n\u001B[1;32m      5\u001B[0m \u001B[38;5;66;03m# Cargar datos de Gapminder desde Plotly\u001B[39;00m\n\u001B[1;32m      6\u001B[0m df \u001B[38;5;241m=\u001B[39m px\u001B[38;5;241m.\u001B[39mdata\u001B[38;5;241m.\u001B[39mgapminder()\n",
      "\u001B[0;31mModuleNotFoundError\u001B[0m: No module named 'sns'"
     ]
    }
   ],
   "execution_count": 4
  },
  {
   "metadata": {},
   "cell_type": "markdown",
   "source": "",
   "id": "7407117111cb307b"
  },
  {
   "metadata": {
    "ExecuteTime": {
     "end_time": "2025-03-05T17:29:53.317735Z",
     "start_time": "2025-03-05T17:29:53.301055Z"
    }
   },
   "cell_type": "code",
   "source": [
    "#Metadata\n",
    "#Dimensiones - Variable (columnnas)=6\n",
    "df.shape"
   ],
   "id": "a0f493f49e79956b",
   "outputs": [
    {
     "data": {
      "text/plain": [
       "(1704, 8)"
      ]
     },
     "execution_count": 2,
     "metadata": {},
     "output_type": "execute_result"
    }
   ],
   "execution_count": 2
  },
  {
   "metadata": {
    "ExecuteTime": {
     "end_time": "2025-03-05T17:31:36.334014Z",
     "start_time": "2025-03-05T17:31:35.956725Z"
    }
   },
   "cell_type": "code",
   "source": [
    "sns.scartterplot(data=df, x='gdpPercap', y='lifeExp' )\n",
    "plt.xlabel('gdpPercap')\n",
    "plt.ylabel('lifeExp')\n",
    "plt.title('Gapminder')\n",
    "plt.show()"
   ],
   "id": "ee15451e9968e514",
   "outputs": [
    {
     "ename": "NameError",
     "evalue": "name 'sns' is not defined",
     "output_type": "error",
     "traceback": [
      "\u001B[0;31m---------------------------------------------------------------------------\u001B[0m",
      "\u001B[0;31mNameError\u001B[0m                                 Traceback (most recent call last)",
      "Cell \u001B[0;32mIn[3], line 1\u001B[0m\n\u001B[0;32m----> 1\u001B[0m \u001B[43msns\u001B[49m\u001B[38;5;241m.\u001B[39mscartterplot(data\u001B[38;5;241m=\u001B[39mdf, x\u001B[38;5;241m=\u001B[39m\u001B[38;5;124m'\u001B[39m\u001B[38;5;124mgdpPercap\u001B[39m\u001B[38;5;124m'\u001B[39m, y\u001B[38;5;241m=\u001B[39m\u001B[38;5;124m'\u001B[39m\u001B[38;5;124mlifeExp\u001B[39m\u001B[38;5;124m'\u001B[39m )\n\u001B[1;32m      2\u001B[0m plt\u001B[38;5;241m.\u001B[39mshow()\n",
      "\u001B[0;31mNameError\u001B[0m: name 'sns' is not defined"
     ]
    }
   ],
   "execution_count": 3
  }
 ],
 "metadata": {
  "kernelspec": {
   "display_name": "Python 3",
   "language": "python",
   "name": "python3"
  },
  "language_info": {
   "codemirror_mode": {
    "name": "ipython",
    "version": 2
   },
   "file_extension": ".py",
   "mimetype": "text/x-python",
   "name": "python",
   "nbconvert_exporter": "python",
   "pygments_lexer": "ipython2",
   "version": "2.7.6"
  }
 },
 "nbformat": 4,
 "nbformat_minor": 5
}
