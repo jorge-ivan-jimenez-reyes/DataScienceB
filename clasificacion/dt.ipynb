{
 "cells": [
  {
   "metadata": {},
   "cell_type": "markdown",
   "source": [
    "# 📊 Clutch Revenue: Predicción del Valor Comercial en la NBA\n",
    "Un proyecto de ciencia de datos para negocios\n",
    "\n",
    "## 🧠 Objetivo\n",
    "Usar rendimiento en momentos clutch + presencia mediática para predecir el valor comercial potencial de jugadores NBA.\n",
    "\n",
    "## 📦 Dataset\n",
    "- 13M+ jugadas (play-by-play)\n",
    "- 65,000+ partidos desde 1946\n",
    "- 4800+ jugadores\n",
    "- Box scores + stats por partido\n",
    "\n"
   ],
   "id": "81b040e846b54b30"
  },
  {
   "cell_type": "code",
   "execution_count": null,
   "id": "initial_id",
   "metadata": {
    "collapsed": true
   },
   "outputs": [],
   "source": ""
  },
  {
   "metadata": {},
   "cell_type": "code",
   "outputs": [],
   "execution_count": null,
   "source": "",
   "id": "7b096687d009a047"
  },
  {
   "metadata": {},
   "cell_type": "code",
   "outputs": [],
   "execution_count": null,
   "source": "",
   "id": "a051e945963e230f"
  }
 ],
 "metadata": {
  "kernelspec": {
   "display_name": "Python 3",
   "language": "python",
   "name": "python3"
  },
  "language_info": {
   "codemirror_mode": {
    "name": "ipython",
    "version": 2
   },
   "file_extension": ".py",
   "mimetype": "text/x-python",
   "name": "python",
   "nbconvert_exporter": "python",
   "pygments_lexer": "ipython2",
   "version": "2.7.6"
  }
 },
 "nbformat": 4,
 "nbformat_minor": 5
}
