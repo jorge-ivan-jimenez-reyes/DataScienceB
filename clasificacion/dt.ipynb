{
 "cells": [
  {
   "cell_type": "code",
   "execution_count": null,
   "id": "initial_id",
   "metadata": {
    "collapsed": true
   },
   "outputs": [],
   "source": "##file"
  },
  {
   "metadata": {},
   "cell_type": "code",
   "outputs": [],
   "execution_count": null,
   "source": [
    "def clean_string(text):\n",
    "\n",
    "  # Add a single-line docstring\n",
    "\n",
    "\n",
    "  no_spaces = text.replace(\" \", \"_\")\n",
    "  clean_text = no_spaces.lower()\n",
    "  return clean_text\n",
    "\n",
    "# Access the docstring\n",
    "print(clean_string.__doc__)"
   ],
   "id": "7b096687d009a047"
  }
 ],
 "metadata": {
  "kernelspec": {
   "display_name": "Python 3",
   "language": "python",
   "name": "python3"
  },
  "language_info": {
   "codemirror_mode": {
    "name": "ipython",
    "version": 2
   },
   "file_extension": ".py",
   "mimetype": "text/x-python",
   "name": "python",
   "nbconvert_exporter": "python",
   "pygments_lexer": "ipython2",
   "version": "2.7.6"
  }
 },
 "nbformat": 4,
 "nbformat_minor": 5
}
