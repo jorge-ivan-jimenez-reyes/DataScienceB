{
 "cells": [
  {
   "cell_type": "code",
   "id": "initial_id",
   "metadata": {
    "collapsed": true,
    "ExecuteTime": {
     "end_time": "2025-02-21T19:21:09.497652Z",
     "start_time": "2025-02-21T19:21:09.492800Z"
    }
   },
   "source": [
    ""
   ],
   "outputs": [],
   "execution_count": null
  },
  {
   "metadata": {},
   "cell_type": "markdown",
   "source": "Apple Income statement\n",
   "id": "d4d9303ebc5a5520"
  },
  {
   "metadata": {
    "ExecuteTime": {
     "end_time": "2025-02-21T19:21:09.516272Z",
     "start_time": "2025-02-21T19:21:09.510241Z"
    }
   },
   "cell_type": "code",
   "source": "https://www.apple.com/newsroom/pdfs/fy2024-q1/FY24_Q1_Consolidated_Financial_Statements.pdf\n",
   "id": "a15845f0e037a084",
   "outputs": [
    {
     "ename": "SyntaxError",
     "evalue": "invalid syntax (362058801.py, line 1)",
     "output_type": "error",
     "traceback": [
      "\u001B[0;36m  Cell \u001B[0;32mIn[2], line 1\u001B[0;36m\u001B[0m\n\u001B[0;31m    https://www.apple.com/newsroom/pdfs/fy2024-q1/FY24_Q1_Consolidated_Financial_Statements.pdf\u001B[0m\n\u001B[0m          ^\u001B[0m\n\u001B[0;31mSyntaxError\u001B[0m\u001B[0;31m:\u001B[0m invalid syntax\n"
     ]
    }
   ],
   "execution_count": 2
  },
  {
   "metadata": {},
   "cell_type": "markdown",
   "source": [
    "\n",
    "# Manejo de Imagenes\n"
   ],
   "id": "97922e961f1f376a"
  },
  {
   "metadata": {
    "ExecuteTime": {
     "end_time": "2025-02-21T19:23:27.302079Z",
     "start_time": "2025-02-21T19:23:27.289857Z"
    }
   },
   "cell_type": "code",
   "source": [
    "import pandas as pd\n",
    "import numpy as np\n",
    "import matplotlib.pyplot as plt\n",
    "import seaborn as sns\n",
    "import os\n",
    "print(os.getcwd())\n"
   ],
   "id": "96b084a66e379f43",
   "outputs": [
    {
     "name": "stdout",
     "output_type": "stream",
     "text": [
      "/Users/jorgejimenez/Documents/UP/DataScienceB/Images\n"
     ]
    }
   ],
   "execution_count": 12
  },
  {
   "metadata": {
    "ExecuteTime": {
     "end_time": "2025-02-21T19:35:36.348565Z",
     "start_time": "2025-02-21T19:35:36.296962Z"
    }
   },
   "cell_type": "code",
   "source": [
    "# MNIST: Modified National Institute of Standards and Technology database\n",
    "# 20,000\n",
    "# Cargar -> [ruta] + nombre + extensión\n",
    "df=pd.read_csv(ruta+archivos[0], header=None)\n",
    "df.shape"
   ],
   "id": "e04f9b121a027a31",
   "outputs": [
    {
     "data": {
      "text/plain": [
       "(101, 3)"
      ]
     },
     "execution_count": 17,
     "metadata": {},
     "output_type": "execute_result"
    }
   ],
   "execution_count": 17
  },
  {
   "metadata": {
    "ExecuteTime": {
     "end_time": "2025-02-21T19:34:23.514426Z",
     "start_time": "2025-02-21T19:34:23.414458Z"
    }
   },
   "cell_type": "code",
   "source": [
    "import os\n",
    "import pandas as pd\n",
    "import numpy as np\n",
    "\n",
    "# 1. Definir la ruta y crear la carpeta sample_data si no existe\n",
    "ruta = 'sample_data/'\n",
    "if not os.path.exists(ruta):\n",
    "    os.makedirs(ruta)\n",
    "    print(\"Directorio 'sample_data/' creado.\")\n",
    "else:\n",
    "    print(\"El directorio 'sample_data/' ya existe.\")\n",
    "\n",
    "# 2. Crear un DataFrame con datos aleatorios\n",
    "df = pd.DataFrame({\n",
    "    'columna1': np.random.randint(0, 100, size=100),\n",
    "    'columna2': np.random.randn(100),\n",
    "    'columna3': np.random.choice(['A', 'B', 'C'], 100)\n",
    "})\n",
    "print(\"Primeros registros del DataFrame:\")\n",
    "print(df.head())\n",
    "\n",
    "# 3. Guardar el DataFrame en un CSV cuyo nombre incluye 'mnist'\n",
    "nombre_csv = 'mnist_sample_data.csv'\n",
    "ruta_csv = os.path.join(ruta, nombre_csv)\n",
    "df.to_csv(ruta_csv, index=False)\n",
    "print(\"CSV guardado en:\", ruta_csv)\n",
    "\n",
    "# 4. Listar el contenido del directorio y filtrar archivos que contengan 'mnist'\n",
    "contenido = os.listdir(ruta)\n",
    "archivos = list(filter(lambda x: 'mnist' in x, contenido))\n",
    "print(\"Archivos filtrados que contienen 'mnist':\", archivos)\n"
   ],
   "id": "28d4d4f1a813398e",
   "outputs": [
    {
     "name": "stdout",
     "output_type": "stream",
     "text": [
      "El directorio 'sample_data/' ya existe.\n",
      "Primeros registros del DataFrame:\n",
      "   columna1  columna2 columna3\n",
      "0        44  0.483705        A\n",
      "1        89  0.104715        C\n",
      "2        51 -0.109245        A\n",
      "3        10 -1.070013        B\n",
      "4        90 -0.482696        C\n",
      "CSV guardado en: sample_data/mnist_sample_data.csv\n",
      "Archivos filtrados que contienen 'mnist': ['mnist_sample_data.csv']\n"
     ]
    }
   ],
   "execution_count": 16
  }
 ],
 "metadata": {
  "kernelspec": {
   "display_name": "Python 3",
   "language": "python",
   "name": "python3"
  },
  "language_info": {
   "codemirror_mode": {
    "name": "ipython",
    "version": 2
   },
   "file_extension": ".py",
   "mimetype": "text/x-python",
   "name": "python",
   "nbconvert_exporter": "python",
   "pygments_lexer": "ipython2",
   "version": "2.7.6"
  }
 },
 "nbformat": 4,
 "nbformat_minor": 5
}
