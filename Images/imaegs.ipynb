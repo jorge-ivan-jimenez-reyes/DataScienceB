{
 "cells": [
  {
   "cell_type": "code",
   "id": "initial_id",
   "metadata": {
    "collapsed": true,
    "ExecuteTime": {
     "end_time": "2025-02-21T19:37:32.499181Z",
     "start_time": "2025-02-21T19:37:32.488441Z"
    }
   },
   "source": [
    ""
   ],
   "outputs": [],
   "execution_count": null
  },
  {
   "metadata": {},
   "cell_type": "markdown",
   "source": "Apple Income statement\n",
   "id": "d4d9303ebc5a5520"
  },
  {
   "metadata": {
    "ExecuteTime": {
     "end_time": "2025-02-21T19:39:27.964902Z",
     "start_time": "2025-02-21T19:39:27.962131Z"
    }
   },
   "cell_type": "code",
   "source": "",
   "id": "a15845f0e037a084",
   "outputs": [],
   "execution_count": null
  },
  {
   "metadata": {},
   "cell_type": "markdown",
   "source": [
    "\n",
    "# Manejo de Imagenes\n"
   ],
   "id": "97922e961f1f376a"
  },
  {
   "metadata": {
    "ExecuteTime": {
     "end_time": "2025-02-21T19:37:38.097464Z",
     "start_time": "2025-02-21T19:37:38.087049Z"
    }
   },
   "cell_type": "code",
   "source": [
    "import pandas as pd\n",
    "import numpy as np\n",
    "import matplotlib.pyplot as plt\n",
    "import seaborn as sns\n",
    "import os\n",
    "print(os.getcwd())\n"
   ],
   "id": "96b084a66e379f43",
   "outputs": [
    {
     "name": "stdout",
     "output_type": "stream",
     "text": [
      "/Users/jorgejimenez/Documents/UP/DataScienceB/Images\n"
     ]
    }
   ],
   "execution_count": 40
  },
  {
   "metadata": {
    "ExecuteTime": {
     "end_time": "2025-02-21T19:38:14.206717Z",
     "start_time": "2025-02-21T19:38:14.193205Z"
    }
   },
   "cell_type": "code",
   "source": [
    "ruta='sample_data/'\n",
    "contenido=os.listdir(ruta)\n",
    "archivos=list(filter(lambda x: 'mnist' in x, contenido))\n",
    "archivos"
   ],
   "id": "77329046bb6033fa",
   "outputs": [
    {
     "data": {
      "text/plain": [
       "['mnist_sample_data.csv']"
      ]
     },
     "execution_count": 42,
     "metadata": {},
     "output_type": "execute_result"
    }
   ],
   "execution_count": 42
  },
  {
   "metadata": {
    "ExecuteTime": {
     "end_time": "2025-02-21T19:38:18.888636Z",
     "start_time": "2025-02-21T19:38:18.884666Z"
    }
   },
   "cell_type": "code",
   "source": [
    "# MNIST: Modified National Institute of Standards and Technology database\n",
    "# 20,000\n",
    "# Cargar -> [ruta] + nombre + extensión\n",
    "df=pd.read_csv(ruta+archivos[0], header=None)\n",
    "df.shape"
   ],
   "id": "e04f9b121a027a31",
   "outputs": [
    {
     "data": {
      "text/plain": [
       "(101, 3)"
      ]
     },
     "execution_count": 48,
     "metadata": {},
     "output_type": "execute_result"
    }
   ],
   "execution_count": 48
  },
  {
   "metadata": {
    "ExecuteTime": {
     "end_time": "2025-02-21T19:43:31.136467Z",
     "start_time": "2025-02-21T19:43:31.072011Z"
    }
   },
   "cell_type": "code",
   "source": [
    "from IPython.display import display, HTML\n",
    "display(HTML('<img src=\"https://production-media.paperswithcode.com/datasets/MNIST-0000000001-2e09631a_09liOmx.jpg\" width=400>'))\n"
   ],
   "id": "6efedbe6f3f278",
   "outputs": [
    {
     "data": {
      "text/plain": [
       "<IPython.core.display.HTML object>"
      ],
      "text/html": [
       "<img src=\"https://production-media.paperswithcode.com/datasets/MNIST-0000000001-2e09631a_09liOmx.jpg\" width=400>"
      ]
     },
     "metadata": {},
     "output_type": "display_data"
    }
   ],
   "execution_count": 59
  }
 ],
 "metadata": {
  "kernelspec": {
   "display_name": "Python 3",
   "language": "python",
   "name": "python3"
  },
  "language_info": {
   "codemirror_mode": {
    "name": "ipython",
    "version": 2
   },
   "file_extension": ".py",
   "mimetype": "text/x-python",
   "name": "python",
   "nbconvert_exporter": "python",
   "pygments_lexer": "ipython2",
   "version": "2.7.6"
  }
 },
 "nbformat": 4,
 "nbformat_minor": 5
}
