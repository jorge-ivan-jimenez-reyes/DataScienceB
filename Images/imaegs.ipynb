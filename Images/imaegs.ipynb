{
 "cells": [
  {
   "cell_type": "code",
   "id": "initial_id",
   "metadata": {
    "collapsed": true,
    "ExecuteTime": {
     "end_time": "2025-02-21T19:49:13.610134Z",
     "start_time": "2025-02-21T19:49:13.604232Z"
    }
   },
   "source": [
    ""
   ],
   "outputs": [],
   "execution_count": null
  },
  {
   "metadata": {},
   "cell_type": "markdown",
   "source": "Apple Income statement\n",
   "id": "d4d9303ebc5a5520"
  },
  {
   "metadata": {
    "ExecuteTime": {
     "end_time": "2025-02-21T19:49:13.636445Z",
     "start_time": "2025-02-21T19:49:13.633608Z"
    }
   },
   "cell_type": "code",
   "source": "",
   "id": "a15845f0e037a084",
   "outputs": [],
   "execution_count": null
  },
  {
   "metadata": {},
   "cell_type": "markdown",
   "source": [
    "\n",
    "# Manejo de Imagenes\n"
   ],
   "id": "97922e961f1f376a"
  },
  {
   "metadata": {
    "ExecuteTime": {
     "end_time": "2025-02-21T19:49:13.654597Z",
     "start_time": "2025-02-21T19:49:13.648701Z"
    }
   },
   "cell_type": "code",
   "source": [
    "import pandas as pd\n",
    "import numpy as np\n",
    "import matplotlib.pyplot as plt\n",
    "import seaborn as sns\n",
    "import os\n",
    "print(os.getcwd())\n"
   ],
   "id": "96b084a66e379f43",
   "outputs": [
    {
     "name": "stdout",
     "output_type": "stream",
     "text": [
      "/Users/jorgejimenez/Documents/UP/DataScienceB/Images\n"
     ]
    }
   ],
   "execution_count": 68
  },
  {
   "metadata": {
    "ExecuteTime": {
     "end_time": "2025-02-21T19:49:13.672267Z",
     "start_time": "2025-02-21T19:49:13.667694Z"
    }
   },
   "cell_type": "code",
   "source": [
    "ruta='sample_data/'\n",
    "contenido=os.listdir(ruta)\n",
    "archivos=list(filter(lambda x: 'mnist' in x, contenido))\n",
    "archivos"
   ],
   "id": "77329046bb6033fa",
   "outputs": [
    {
     "data": {
      "text/plain": [
       "['mnist_sample_data.csv']"
      ]
     },
     "execution_count": 69,
     "metadata": {},
     "output_type": "execute_result"
    }
   ],
   "execution_count": 69
  },
  {
   "metadata": {
    "ExecuteTime": {
     "end_time": "2025-02-21T19:49:13.707232Z",
     "start_time": "2025-02-21T19:49:13.685509Z"
    }
   },
   "cell_type": "code",
   "source": [
    "# MNIST: Modified National Institute of Standards and Technology database\n",
    "# 20,000\n",
    "# Cargar -> [ruta] + nombre + extensión\n",
    "df=pd.read_csv(ruta+archivos[0], header=None)\n",
    "df.shape"
   ],
   "id": "e04f9b121a027a31",
   "outputs": [
    {
     "data": {
      "text/plain": [
       "(101, 3)"
      ]
     },
     "execution_count": 70,
     "metadata": {},
     "output_type": "execute_result"
    }
   ],
   "execution_count": 70
  },
  {
   "metadata": {
    "ExecuteTime": {
     "end_time": "2025-02-21T19:49:13.716670Z",
     "start_time": "2025-02-21T19:49:13.713536Z"
    }
   },
   "cell_type": "code",
   "source": [
    "from IPython.display import display, HTML\n",
    "display(HTML('<img src=\"https://production-media.paperswithcode.com/datasets/MNIST-0000000001-2e09631a_09liOmx.jpg\" width=400>'))\n"
   ],
   "id": "6efedbe6f3f278",
   "outputs": [
    {
     "data": {
      "text/plain": [
       "<IPython.core.display.HTML object>"
      ],
      "text/html": [
       "<img src=\"https://production-media.paperswithcode.com/datasets/MNIST-0000000001-2e09631a_09liOmx.jpg\" width=400>"
      ]
     },
     "metadata": {},
     "output_type": "display_data"
    }
   ],
   "execution_count": 71
  },
  {
   "metadata": {
    "ExecuteTime": {
     "end_time": "2025-02-21T19:49:13.737029Z",
     "start_time": "2025-02-21T19:49:13.730370Z"
    }
   },
   "cell_type": "code",
   "source": [
    "# MNIST: Modified National Institute of Standards and Technology database\n",
    "# 20,000\n",
    "# Cargar -> [ruta] + nombre + extensión\n",
    "df=pd.read_csv(ruta+archivos[0], header=None)\n",
    "df.shape"
   ],
   "id": "61ff3d7b1b818415",
   "outputs": [
    {
     "data": {
      "text/plain": [
       "(101, 3)"
      ]
     },
     "execution_count": 72,
     "metadata": {},
     "output_type": "execute_result"
    }
   ],
   "execution_count": 72
  },
  {
   "metadata": {
    "ExecuteTime": {
     "end_time": "2025-02-21T19:49:13.761695Z",
     "start_time": "2025-02-21T19:49:13.753244Z"
    }
   },
   "cell_type": "code",
   "source": "df.head()\n",
   "id": "72346c33e99a3eb",
   "outputs": [
    {
     "data": {
      "text/plain": [
       "          0                     1         2\n",
       "0  columna1              columna2  columna3\n",
       "1        44    0.4837053883127525         A\n",
       "2        89    0.1047151591652778         C\n",
       "3        51  -0.10924487684414208         A\n",
       "4        10   -1.0700132931132997         B"
      ],
      "text/html": [
       "<div>\n",
       "<style scoped>\n",
       "    .dataframe tbody tr th:only-of-type {\n",
       "        vertical-align: middle;\n",
       "    }\n",
       "\n",
       "    .dataframe tbody tr th {\n",
       "        vertical-align: top;\n",
       "    }\n",
       "\n",
       "    .dataframe thead th {\n",
       "        text-align: right;\n",
       "    }\n",
       "</style>\n",
       "<table border=\"1\" class=\"dataframe\">\n",
       "  <thead>\n",
       "    <tr style=\"text-align: right;\">\n",
       "      <th></th>\n",
       "      <th>0</th>\n",
       "      <th>1</th>\n",
       "      <th>2</th>\n",
       "    </tr>\n",
       "  </thead>\n",
       "  <tbody>\n",
       "    <tr>\n",
       "      <th>0</th>\n",
       "      <td>columna1</td>\n",
       "      <td>columna2</td>\n",
       "      <td>columna3</td>\n",
       "    </tr>\n",
       "    <tr>\n",
       "      <th>1</th>\n",
       "      <td>44</td>\n",
       "      <td>0.4837053883127525</td>\n",
       "      <td>A</td>\n",
       "    </tr>\n",
       "    <tr>\n",
       "      <th>2</th>\n",
       "      <td>89</td>\n",
       "      <td>0.1047151591652778</td>\n",
       "      <td>C</td>\n",
       "    </tr>\n",
       "    <tr>\n",
       "      <th>3</th>\n",
       "      <td>51</td>\n",
       "      <td>-0.10924487684414208</td>\n",
       "      <td>A</td>\n",
       "    </tr>\n",
       "    <tr>\n",
       "      <th>4</th>\n",
       "      <td>10</td>\n",
       "      <td>-1.0700132931132997</td>\n",
       "      <td>B</td>\n",
       "    </tr>\n",
       "  </tbody>\n",
       "</table>\n",
       "</div>"
      ]
     },
     "execution_count": 73,
     "metadata": {},
     "output_type": "execute_result"
    }
   ],
   "execution_count": 73
  },
  {
   "metadata": {
    "ExecuteTime": {
     "end_time": "2025-02-21T19:49:13.799883Z",
     "start_time": "2025-02-21T19:49:13.796151Z"
    }
   },
   "cell_type": "code",
   "source": [
    "# <img src=\"https://i0.wp.com/digital-photography-school.com/wp-content/uploads/2024/07/pixels-resolution-files-photoshop-resize-10.jpg?fit=1500%2C967&ssl=1\" width=400>\n",
    "from IPython.display import display, HTML\n",
    "display(HTML('<img src=\"https://i0.wp.com/digital-photography-school.com/wp-content/uploads/2024/07/pixels-resolution-files-photoshop-resize-10.jpg?fit=1500%2C967&ssl=1>'))\n"
   ],
   "id": "496f08c5e229e4e1",
   "outputs": [
    {
     "data": {
      "text/plain": [
       "<IPython.core.display.HTML object>"
      ],
      "text/html": [
       "<img src=\"https://i0.wp.com/digital-photography-school.com/wp-content/uploads/2024/07/pixels-resolution-files-photoshop-resize-10.jpg?fit=1500%2C967&ssl=1>"
      ]
     },
     "metadata": {},
     "output_type": "display_data"
    }
   ],
   "execution_count": 74
  },
  {
   "metadata": {
    "ExecuteTime": {
     "end_time": "2025-02-21T19:49:15.115275Z",
     "start_time": "2025-02-21T19:49:15.112454Z"
    }
   },
   "cell_type": "code",
   "source": [
    "# Imágenes en blanco y negro\n",
    "# Arreglo bidimensional\n",
    "# Pixeles rango de valor está entre 0 y 255\n",
    "2**8"
   ],
   "id": "ab8bbe173e0dd6c2",
   "outputs": [
    {
     "data": {
      "text/plain": [
       "256"
      ]
     },
     "execution_count": 75,
     "metadata": {},
     "output_type": "execute_result"
    }
   ],
   "execution_count": 75
  },
  {
   "metadata": {
    "ExecuteTime": {
     "end_time": "2025-02-21T19:49:15.233343Z",
     "start_time": "2025-02-21T19:49:15.229695Z"
    }
   },
   "cell_type": "code",
   "source": [
    "# 1 byte -> 8 bits\n",
    "# b'00000000 -> 0   -> Blanco\n",
    "# b'11111111 -> 255 -> Negro\n",
    "df.iloc[0,:].values"
   ],
   "id": "c3781cb7378f4a5b",
   "outputs": [
    {
     "data": {
      "text/plain": [
       "array(['columna1', 'columna2', 'columna3'], dtype=object)"
      ]
     },
     "execution_count": 76,
     "metadata": {},
     "output_type": "execute_result"
    }
   ],
   "execution_count": 76
  },
  {
   "metadata": {
    "ExecuteTime": {
     "end_time": "2025-02-21T19:49:24.536081Z",
     "start_time": "2025-02-21T19:49:24.523771Z"
    }
   },
   "cell_type": "code",
   "source": "df.iloc[0,:].values.shape",
   "id": "88c2bc39171c7989",
   "outputs": [
    {
     "data": {
      "text/plain": [
       "(3,)"
      ]
     },
     "execution_count": 77,
     "metadata": {},
     "output_type": "execute_result"
    }
   ],
   "execution_count": 77
  }
 ],
 "metadata": {
  "kernelspec": {
   "display_name": "Python 3",
   "language": "python",
   "name": "python3"
  },
  "language_info": {
   "codemirror_mode": {
    "name": "ipython",
    "version": 2
   },
   "file_extension": ".py",
   "mimetype": "text/x-python",
   "name": "python",
   "nbconvert_exporter": "python",
   "pygments_lexer": "ipython2",
   "version": "2.7.6"
  }
 },
 "nbformat": 4,
 "nbformat_minor": 5
}
