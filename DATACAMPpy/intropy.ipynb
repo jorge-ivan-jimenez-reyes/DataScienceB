{
 "cells": [
  {
   "cell_type": "code",
   "execution_count": null,
   "id": "initial_id",
   "metadata": {
    "collapsed": true
   },
   "outputs": [],
   "source": [
    "#calculate and print nine squared\n",
    "print(9 ** 2)\n",
    "\n",
    "#find the remainder from 337 divided by 27\n",
    "\n",
    "print(337 % 27)\n",
    "\n"
   ]
  },
  {
   "metadata": {},
   "cell_type": "code",
   "outputs": [],
   "execution_count": null,
   "source": [
    "#variables\n",
    "#why use variables avoid having too retpe the same information\n",
    "\n",
    "#Integers\n",
    "#no need to tell python what type is\n",
    "customer_id = 100\n",
    "\n",
    "#FLOATS\n",
    "customer_average_spend = 55.25\n",
    "\n",
    "#Stings\n",
    "#single quotes\n",
    "customer_name = 'george'\n",
    "#double quotes also work\n",
    "customer_name2 = \"george2\"\n",
    "\n",
    "\n"
   ],
   "id": "f00e0c205e07a5a2"
  }
 ],
 "metadata": {
  "kernelspec": {
   "display_name": "Python 3",
   "language": "python",
   "name": "python3"
  },
  "language_info": {
   "codemirror_mode": {
    "name": "ipython",
    "version": 2
   },
   "file_extension": ".py",
   "mimetype": "text/x-python",
   "name": "python",
   "nbconvert_exporter": "python",
   "pygments_lexer": "ipython2",
   "version": "2.7.6"
  }
 },
 "nbformat": 4,
 "nbformat_minor": 5
}
