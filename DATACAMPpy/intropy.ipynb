{
 "cells": [
  {
   "cell_type": "code",
   "execution_count": null,
   "id": "initial_id",
   "metadata": {
    "collapsed": true
   },
   "outputs": [],
   "source": [
    "from sympy import false\n",
    "\n",
    "#calculate and print nine squared\n",
    "print(9 ** 2)\n",
    "\n",
    "#find the remainder from 337 divided by 27\n",
    "\n",
    "print(337 % 27)\n",
    "\n"
   ]
  },
  {
   "metadata": {
    "ExecuteTime": {
     "end_time": "2025-02-09T04:33:06.279508Z",
     "start_time": "2025-02-09T04:33:06.277321Z"
    }
   },
   "cell_type": "code",
   "source": [
    "#variables\n",
    "#why use variables avoid having too retpe the same information\n",
    "\n",
    "#Integers\n",
    "#no need to tell python what type is\n",
    "customer_id = 100\n",
    "\n",
    "#FLOATS\n",
    "customer_average_spend = 55.25\n",
    "\n",
    "#Stings\n",
    "#single quotes\n",
    "customer_name = 'george'\n",
    "#double quotes also work\n",
    "customer_name2 = \"george2\"\n",
    "\n",
    "#Boolean TRUE/FALSE\n",
    "\n",
    "active = True\n",
    "\n",
    "\n",
    "#Variable Naming\n",
    "#CAse conventios\n",
    "\n",
    "#Snake case\n",
    "total_spend = 31.25\n",
    "\n",
    "#pascalc case\n",
    "TotalSpend = 151\n",
    "\n",
    "#camel case\n",
    "\n",
    "totalSpend = 4540\n",
    "\n",
    "#calculation with variables\n",
    "\n",
    "fulltotal = total_spend + totalSpend\n",
    "\n",
    "print(fulltotal)\n",
    "\n"
   ],
   "id": "f00e0c205e07a5a2",
   "outputs": [
    {
     "name": "stdout",
     "output_type": "stream",
     "text": [
      "4571.25\n"
     ]
    }
   ],
   "execution_count": 1
  },
  {
   "metadata": {},
   "cell_type": "code",
   "outputs": [],
   "execution_count": null,
   "source": [
    "age = 47\n",
    "\n",
    "# Create a boolean variable called is_adult\n",
    "is_adult = True\n",
    "\n",
    "# Update John's address\n",
    "address = \"Buckingham Palace, London, SW1A 1AA\"\n",
    "\n",
    "# Print their information\n",
    "print(address,is_adult)"
   ],
   "id": "2265671d6ffe61a2"
  }
 ],
 "metadata": {
  "kernelspec": {
   "display_name": "Python 3",
   "language": "python",
   "name": "python3"
  },
  "language_info": {
   "codemirror_mode": {
    "name": "ipython",
    "version": 2
   },
   "file_extension": ".py",
   "mimetype": "text/x-python",
   "name": "python",
   "nbconvert_exporter": "python",
   "pygments_lexer": "ipython2",
   "version": "2.7.6"
  }
 },
 "nbformat": 4,
 "nbformat_minor": 5
}
