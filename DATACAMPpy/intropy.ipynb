{
 "cells": [
  {
   "cell_type": "code",
   "execution_count": null,
   "id": "initial_id",
   "metadata": {
    "collapsed": true
   },
   "outputs": [],
   "source": [
    "from boltons.listutils import SplayList\n",
    "from sympy import false\n",
    "\n",
    "#calculate and print nine squared\n",
    "print(9 ** 2)\n",
    "\n",
    "#find the remainder from 337 divided by 27\n",
    "\n",
    "print(337 % 27)\n",
    "\n"
   ]
  },
  {
   "metadata": {
    "ExecuteTime": {
     "end_time": "2025-02-09T04:33:06.279508Z",
     "start_time": "2025-02-09T04:33:06.277321Z"
    }
   },
   "cell_type": "code",
   "source": [
    "#variables\n",
    "#why use variables avoid having too retpe the same information\n",
    "\n",
    "#Integers\n",
    "#no need to tell python what type is\n",
    "customer_id = 100\n",
    "\n",
    "#FLOATS\n",
    "customer_average_spend = 55.25\n",
    "\n",
    "#Stings\n",
    "#single quotes\n",
    "customer_name = 'george'\n",
    "#double quotes also work\n",
    "customer_name2 = \"george2\"\n",
    "\n",
    "#Boolean TRUE/FALSE\n",
    "\n",
    "active = True\n",
    "\n",
    "\n",
    "#Variable Naming\n",
    "#CAse conventios\n",
    "\n",
    "#Snake case\n",
    "total_spend = 31.25\n",
    "\n",
    "#pascalc case\n",
    "TotalSpend = 151\n",
    "\n",
    "#camel case\n",
    "\n",
    "totalSpend = 4540\n",
    "\n",
    "#calculation with variables\n",
    "\n",
    "fulltotal = total_spend + totalSpend\n",
    "\n",
    "print(fulltotal)\n",
    "\n"
   ],
   "id": "f00e0c205e07a5a2",
   "outputs": [
    {
     "name": "stdout",
     "output_type": "stream",
     "text": [
      "4571.25\n"
     ]
    }
   ],
   "execution_count": 1
  },
  {
   "metadata": {},
   "cell_type": "code",
   "outputs": [],
   "execution_count": null,
   "source": [
    "age = 47\n",
    "\n",
    "# Create a boolean variable called is_adult\n",
    "is_adult = True\n",
    "\n",
    "# Update John's address\n",
    "address = \"Buckingham Palace, London, SW1A 1AA\"\n",
    "\n",
    "# Print their information\n",
    "print(address,is_adult)"
   ],
   "id": "2265671d6ffe61a2"
  },
  {
   "metadata": {
    "ExecuteTime": {
     "end_time": "2025-02-09T17:54:41.584870Z",
     "start_time": "2025-02-09T17:54:41.575302Z"
    }
   },
   "cell_type": "code",
   "source": [
    "\n",
    "#woorking with string\n",
    "#strings are everywhere\n",
    "\n",
    "#methods\n",
    "#methods is a functioon that is only available to a specificc data type\n",
    "#str methods\n",
    "\n",
    "#calling a string method\n",
    "\n",
    "str_variable = \"hello\"\n",
    "print(str_variable)\n",
    "\n",
    "\n",
    " #changing case\n",
    "current_top_album = \"For all the Dogs\"\n",
    "\n",
    "current_top_album =  current_top_album.lower()\n",
    "print(current_top_album)\n",
    "\n",
    "current_top_album = current_top_album.title()\n",
    "print(current_top_album)\n",
    "\n",
    "#Mult-line strings\n",
    "harry_potter = \"\"\"\n",
    "dasas\n",
    "\"\"\"\n"
   ],
   "id": "3b66de1119341a52",
   "outputs": [
    {
     "name": "stdout",
     "output_type": "stream",
     "text": [
      "hello\n",
      "for all the dogs\n",
      "For All The Dogs\n"
     ]
    }
   ],
   "execution_count": 4
  },
  {
   "metadata": {},
   "cell_type": "code",
   "outputs": [],
   "execution_count": null,
   "source": [
    "most_popular_course = \"Intro to Embeddings with the OpenAI API\"\n",
    "\n",
    "# Update the first word\n",
    "____ = ____.____(\"____\", \"____\")\n",
    "\n",
    "print(most_popular_course)"
   ],
   "id": "13d6914a8b0d8b19"
  },
  {
   "metadata": {},
   "cell_type": "code",
   "outputs": [],
   "execution_count": null,
   "source": [
    "most_popular_course = \"Intro to Embeddings with the OpenAI API\"\n",
    "\n",
    "# Update the first word\n",
    "most_popular_course = most_popular_course.replace(\"Intro\", \"Introduction\")\n",
    "\n",
    "# Swap spaces for underscores\n",
    " = ____\n",
    "\n",
    "print(most_popular_course)"
   ],
   "id": "2ac2871a36b07375"
  },
  {
   "metadata": {},
   "cell_type": "code",
   "outputs": [],
   "execution_count": null,
   "source": [
    "most_popular_course = \"Intro to Embeddings with the OpenAI API\"\n",
    "\n",
    "# Update the first word\n",
    "most_popular_course = most_popular_course.replace(\"Intro\", \"Introduction\")\n",
    "\n",
    "# Swap spaces for underscores\n",
    "most_popular_course = most_popular_course.replace(\" \", \"_\")\n",
    "\n",
    "# Change to lowercase\n",
    "most_popular_course = most_popular_course.lower()\n",
    "\n",
    "print(most_popular_course)"
   ],
   "id": "909a91fc0b1e1a04"
  },
  {
   "metadata": {},
   "cell_type": "code",
   "outputs": [],
   "execution_count": null,
   "source": [
    " #list\n",
    "#store multiple values in a single variable\n",
    "#lit of prices\n",
    "prices = [10,20,30,40,50]\n",
    "\n",
    "#check the data type of a list\n",
    "type(prices)\n",
    "\n",
    "#finding the latest element on a list\n",
    "prices = [2]\n",
    "\n",
    "#access multiple elements\n",
    "# Find the second song\n",
    "playList =[1, 'Blinding Lights', 'The Weeknd', 2, 'One Dance', 'Drake', 3, 'Uptown Funk', 'Mark Ronson', 4, 'Closer', 'The Chainsmokers', 5, 'One Kiss', 'Calvin Harris', 6, 'Mr. Brightside', 'The Killers']\n",
    "\n",
    "print(playList[4])\n",
    "\n",
    "# Get the last song's artist\n",
    "# Get the last song's artist\n",
    "print(playList[-1])  # 'The Killers'\n",
    "\n",
    "# Print all songs in the playlist\n",
    "print(playList[1::3])"
   ],
   "id": "ae984c26af9dd311"
  },
  {
   "metadata": {},
   "cell_type": "code",
   "outputs": [],
   "execution_count": null,
   "source": [
    "#dictionaries\n",
    " #data structure consisting of key value pairs\n",
    " #dictionaries are usefull because keys and vallues are associated\n",
    "\n",
    " #creating a dictionary\n",
    "\n",
    "products_dict = {\"AG35\": 10, \"AG54\": 12}\n",
    "\n",
    " #ACCESIGN ALL values\n",
    "products_dict.values()\n",
    "#all keys in a dictionary\n",
    "products_dict.keys()\n",
    "\n",
    "# add a  new key-value pair\n",
    "products_dict[\"AG35\"] =50\n",
    "\n",
    "# Print the song by Coldplay\n",
    "print(____)\n",
    "\n",
    "# Add a new song\n",
    "____\n",
    "\n",
    "# Print the songs in the playlist\n",
    "print(____)\n",
    "\n"
   ],
   "id": "ac4fefdf628e9f07"
  },
  {
   "metadata": {
    "ExecuteTime": {
     "end_time": "2025-02-09T19:37:52.619658Z",
     "start_time": "2025-02-09T19:37:52.585305Z"
    }
   },
   "cell_type": "code",
   "source": [
    "#set  an tuples\n",
    "#set = unique data\n",
    "#unchangeable\n",
    "#creating a set\n",
    "\n",
    "Set = {\"John\", \"Smith\" \"George\", \"Luca\"}\n",
    "\n",
    "#attend list\n",
    "list_attend = [\"John\", \"Smith\", \"George\", \"Luca\"]\n",
    "\n",
    "#convert to set\n",
    "\n",
    "list_attend = set(list_attend)\n",
    "print(list_attend)\n",
    "\n",
    "\n",
    "#sets are unnordered, python has a helpful builtin funtion\n",
    "#sorting set\n",
    "sorted(list_attend)"
   ],
   "id": "50d4abc361fdf771",
   "outputs": [
    {
     "name": "stdout",
     "output_type": "stream",
     "text": [
      "{'Smith', 'John', 'George', 'Luca'}\n"
     ]
    }
   ],
   "execution_count": 5
  },
  {
   "metadata": {},
   "cell_type": "code",
   "outputs": [],
   "execution_count": null,
   "source": [
    "#Tuples\n",
    "#imutable = cannot be change\n",
    "#no adding value\n",
    "#no removing values\n",
    "\n",
    "#tuples are ordere are great if we need to prevent info frmm bening edted\n",
    "#creating a tuple\n",
    "office_locations = (\"New York City\", \"London\", \"Leuven\")\n",
    "#convevrt another data structure to a tupple\n",
    "attendees = tuple(list_attend)\n"
   ],
   "id": "93d161c715523106"
  },
  {
   "metadata": {},
   "cell_type": "code",
   "outputs": [],
   "execution_count": null,
   "source": [
    "hip_hop = [\"Drake\", \"JAY-Z\", \"50 Cent\", \"Drake\"]\n",
    "\n",
    "# Create a set\n",
    "indie_set = {\"Kings of Leon\", \"MGMT\", \"Stereophonics\"}\n",
    "\n",
    "# Convert hip_hop to a set\n",
    "hip_hop_set = set(hip_hop)\n",
    "# Print the indie and hip_hop sets\n",
    "print(hip_hop_set,indie_set)"
   ],
   "id": "e58617f0edfbde3f"
  },
  {
   "metadata": {
    "ExecuteTime": {
     "end_time": "2025-02-09T20:22:10.326815Z",
     "start_time": "2025-02-09T20:22:10.319094Z"
    }
   },
   "cell_type": "code",
   "source": [
    "#conditional statements and operations\n",
    "#COMPARISON operator\n",
    "#Check if two things are equa\n",
    "#cmmpare if 2 is equual to 3\n",
    "\n",
    "print(2==3)\n",
    "#check that 2 is not equal to 3\n",
    "print(2!=3)\n",
    "#is 5 les than 7\n",
    "print(5<7) #true\n",
    "#iis 5 less than equal to 7?\n",
    "print(5<=7)#true\n",
    "\n",
    "#Conditional Statement\n",
    "\n",
    "#if true perform a task otherwise not\n",
    "#targets unit sold and actual units sold\n",
    "sales_targets = 350\n",
    "units_sold = 325\n",
    "#compare sales\n",
    "if units_sold > sales_targets:\n",
    "    print(\"Target Achieved\")\n",
    "    #otherwisee\n",
    "elif units_sold >= 320:\n",
    "    print(\"Target Almost Achieved\")\n",
    "\n",
    "elif\n"
   ],
   "id": "16c946ce7ddc2503",
   "outputs": [
    {
     "name": "stdout",
     "output_type": "stream",
     "text": [
      "False\n",
      "True\n",
      "True\n",
      "True\n",
      "Target Almost Achieved\n"
     ]
    }
   ],
   "execution_count": 8
  },
  {
   "metadata": {
    "ExecuteTime": {
     "end_time": "2025-02-09T20:30:34.892874Z",
     "start_time": "2025-02-09T20:30:34.885177Z"
    }
   },
   "cell_type": "code",
   "source": [
    "# Check if September inflation is less than August inflation\n",
    "inflation_september = 3\n",
    "inflation_august = 5\n",
    "if inflation_september < inflation_august:\n",
    "  print(\"Inflation decreased\")\n",
    "# Check if September inflation is more than August inflation\n",
    "elif inflation_september > inflation_august:\n",
    "  print(\"Inflation increased\")\n",
    "# Confirm that they are equal\n",
    "else:\n",
    "  print(\"Inflation remained stable\")\n"
   ],
   "id": "b69d7bcc6be224e6",
   "outputs": [
    {
     "name": "stdout",
     "output_type": "stream",
     "text": [
      "Inflation decreased\n"
     ]
    }
   ],
   "execution_count": 10
  },
  {
   "metadata": {},
   "cell_type": "code",
   "outputs": [],
   "execution_count": null,
   "source": [
    "# Check the number of beds\n",
    "if num_beds < min_numbeds:\n",
    "  print(\"Insufficient bedrooms\")\n",
    "\n",
    "# Check square feet\n",
    "elif sq_foot <= min_sq_foot:\n",
    "  print(\"Too small\")\n",
    "\n",
    "\n",
    "# Check the rent\n",
    "elif rent > max_rent:\n",
    "  print(\"Too expensive\")\n",
    "# If all conditions met\n",
    "\n",
    "else:\n",
    "  print(\"This looks promising!\")\n"
   ],
   "id": "bd0799ac47fc8630"
  },
  {
   "metadata": {},
   "cell_type": "code",
   "outputs": [],
   "execution_count": null,
   "source": [
    "# Check the number of beds\n",
    "if num_beds < min_num_beds:\n",
    "  print(\"Insufficient bedrooms\")\n",
    "\n",
    "# Check square feet\n",
    "elif sq_foot <= min_sq_foot:\n",
    "  print(\"Too small\")\n",
    "\n",
    "\n",
    "# Check the rent\n",
    "elif rent > max_rent:\n",
    "  print(\"Too expensive\")\n",
    "# If all conditions met\n",
    "\n",
    "else:\n",
    "  print(\"This looks promising!\")\n"
   ],
   "id": "df09d71b08cb5166"
  }
 ],
 "metadata": {
  "kernelspec": {
   "display_name": "Python 3",
   "language": "python",
   "name": "python3"
  },
  "language_info": {
   "codemirror_mode": {
    "name": "ipython",
    "version": 2
   },
   "file_extension": ".py",
   "mimetype": "text/x-python",
   "name": "python",
   "nbconvert_exporter": "python",
   "pygments_lexer": "ipython2",
   "version": "2.7.6"
  }
 },
 "nbformat": 4,
 "nbformat_minor": 5
}
