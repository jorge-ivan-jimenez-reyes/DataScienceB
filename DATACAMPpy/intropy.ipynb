{
 "cells": [
  {
   "cell_type": "code",
   "execution_count": null,
   "id": "initial_id",
   "metadata": {
    "collapsed": true
   },
   "outputs": [],
   "source": [
    "from boltons.listutils import SplayList\n",
    "from sympy import false\n",
    "\n",
    "#calculate and print nine squared\n",
    "print(9 ** 2)\n",
    "\n",
    "#find the remainder from 337 divided by 27\n",
    "\n",
    "print(337 % 27)\n",
    "\n"
   ]
  },
  {
   "metadata": {
    "ExecuteTime": {
     "end_time": "2025-02-09T04:33:06.279508Z",
     "start_time": "2025-02-09T04:33:06.277321Z"
    }
   },
   "cell_type": "code",
   "source": [
    "#variables\n",
    "#why use variables avoid having too retpe the same information\n",
    "\n",
    "#Integers\n",
    "#no need to tell python what type is\n",
    "customer_id = 100\n",
    "\n",
    "#FLOATS\n",
    "customer_average_spend = 55.25\n",
    "\n",
    "#Stings\n",
    "#single quotes\n",
    "customer_name = 'george'\n",
    "#double quotes also work\n",
    "customer_name2 = \"george2\"\n",
    "\n",
    "#Boolean TRUE/FALSE\n",
    "\n",
    "active = True\n",
    "\n",
    "\n",
    "#Variable Naming\n",
    "#CAse conventios\n",
    "\n",
    "#Snake case\n",
    "total_spend = 31.25\n",
    "\n",
    "#pascalc case\n",
    "TotalSpend = 151\n",
    "\n",
    "#camel case\n",
    "\n",
    "totalSpend = 4540\n",
    "\n",
    "#calculation with variables\n",
    "\n",
    "fulltotal = total_spend + totalSpend\n",
    "\n",
    "print(fulltotal)\n",
    "\n"
   ],
   "id": "f00e0c205e07a5a2",
   "outputs": [
    {
     "name": "stdout",
     "output_type": "stream",
     "text": [
      "4571.25\n"
     ]
    }
   ],
   "execution_count": 1
  },
  {
   "metadata": {},
   "cell_type": "code",
   "outputs": [],
   "execution_count": null,
   "source": [
    "age = 47\n",
    "\n",
    "# Create a boolean variable called is_adult\n",
    "is_adult = True\n",
    "\n",
    "# Update John's address\n",
    "address = \"Buckingham Palace, London, SW1A 1AA\"\n",
    "\n",
    "# Print their information\n",
    "print(address,is_adult)"
   ],
   "id": "2265671d6ffe61a2"
  },
  {
   "metadata": {
    "ExecuteTime": {
     "end_time": "2025-02-09T17:54:41.584870Z",
     "start_time": "2025-02-09T17:54:41.575302Z"
    }
   },
   "cell_type": "code",
   "source": [
    "\n",
    "#woorking with string\n",
    "#strings are everywhere\n",
    "\n",
    "#methods\n",
    "#methods is a functioon that is only available to a specificc data type\n",
    "#str methods\n",
    "\n",
    "#calling a string method\n",
    "\n",
    "str_variable = \"hello\"\n",
    "print(str_variable)\n",
    "\n",
    "\n",
    " #changing case\n",
    "current_top_album = \"For all the Dogs\"\n",
    "\n",
    "current_top_album =  current_top_album.lower()\n",
    "print(current_top_album)\n",
    "\n",
    "current_top_album = current_top_album.title()\n",
    "print(current_top_album)\n",
    "\n",
    "#Mult-line strings\n",
    "harry_potter = \"\"\"\n",
    "dasas\n",
    "\"\"\"\n"
   ],
   "id": "3b66de1119341a52",
   "outputs": [
    {
     "name": "stdout",
     "output_type": "stream",
     "text": [
      "hello\n",
      "for all the dogs\n",
      "For All The Dogs\n"
     ]
    }
   ],
   "execution_count": 4
  },
  {
   "metadata": {},
   "cell_type": "code",
   "outputs": [],
   "execution_count": null,
   "source": [
    "most_popular_course = \"Intro to Embeddings with the OpenAI API\"\n",
    "\n",
    "# Update the first word\n",
    "____ = ____.____(\"____\", \"____\")\n",
    "\n",
    "print(most_popular_course)"
   ],
   "id": "13d6914a8b0d8b19"
  },
  {
   "metadata": {},
   "cell_type": "code",
   "outputs": [],
   "execution_count": null,
   "source": [
    "most_popular_course = \"Intro to Embeddings with the OpenAI API\"\n",
    "\n",
    "# Update the first word\n",
    "most_popular_course = most_popular_course.replace(\"Intro\", \"Introduction\")\n",
    "\n",
    "# Swap spaces for underscores\n",
    " = ____\n",
    "\n",
    "print(most_popular_course)"
   ],
   "id": "2ac2871a36b07375"
  },
  {
   "metadata": {},
   "cell_type": "code",
   "outputs": [],
   "execution_count": null,
   "source": [
    "most_popular_course = \"Intro to Embeddings with the OpenAI API\"\n",
    "\n",
    "# Update the first word\n",
    "most_popular_course = most_popular_course.replace(\"Intro\", \"Introduction\")\n",
    "\n",
    "# Swap spaces for underscores\n",
    "most_popular_course = most_popular_course.replace(\" \", \"_\")\n",
    "\n",
    "# Change to lowercase\n",
    "most_popular_course = most_popular_course.lower()\n",
    "\n",
    "print(most_popular_course)"
   ],
   "id": "909a91fc0b1e1a04"
  },
  {
   "metadata": {},
   "cell_type": "code",
   "outputs": [],
   "execution_count": null,
   "source": [
    " #list\n",
    "#store multiple values in a single variable\n",
    "#lit of prices\n",
    "prices = [10,20,30,40,50]\n",
    "\n",
    "#check the data type of a list\n",
    "type(prices)\n",
    "\n",
    "#finding the latest element on a list\n",
    "prices = [2]\n",
    "\n",
    "#access multiple elements\n",
    "# Find the second song\n",
    "playList =[1, 'Blinding Lights', 'The Weeknd', 2, 'One Dance', 'Drake', 3, 'Uptown Funk', 'Mark Ronson', 4, 'Closer', 'The Chainsmokers', 5, 'One Kiss', 'Calvin Harris', 6, 'Mr. Brightside', 'The Killers']\n",
    "\n",
    "print(playList[4])\n",
    "\n",
    "# Get the last song's artist\n",
    "# Get the last song's artist\n",
    "print(playList[-1])  # 'The Killers'\n",
    "\n",
    "# Print all songs in the playlist\n",
    "print(playList[1::3])"
   ],
   "id": "ae984c26af9dd311"
  },
  {
   "metadata": {},
   "cell_type": "code",
   "outputs": [],
   "execution_count": null,
   "source": "# Find the second song\n",
   "id": "ac4fefdf628e9f07"
  }
 ],
 "metadata": {
  "kernelspec": {
   "display_name": "Python 3",
   "language": "python",
   "name": "python3"
  },
  "language_info": {
   "codemirror_mode": {
    "name": "ipython",
    "version": 2
   },
   "file_extension": ".py",
   "mimetype": "text/x-python",
   "name": "python",
   "nbconvert_exporter": "python",
   "pygments_lexer": "ipython2",
   "version": "2.7.6"
  }
 },
 "nbformat": 4,
 "nbformat_minor": 5
}
