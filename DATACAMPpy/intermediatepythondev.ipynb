{
 "cells": [
  {
   "cell_type": "code",
   "execution_count": null,
   "id": "initial_id",
   "metadata": {
    "collapsed": true
   },
   "outputs": [],
   "source": [
    "#Build In Functions\n",
    "#functons we now\n",
    "print(\"displays the output\")\n",
    "\n"
   ]
  },
  {
   "metadata": {
    "ExecuteTime": {
     "end_time": "2025-03-09T01:05:54.080477Z",
     "start_time": "2025-03-09T01:05:54.072215Z"
    }
   },
   "cell_type": "code",
   "source": [
    "#max and min\n",
    "sales = [125,126,127]\n",
    "max(sales)\n",
    "#sum and round\n",
    "sum(sales)"
   ],
   "id": "1e9cc91f4025ec5c",
   "outputs": [
    {
     "data": {
      "text/plain": [
       "378"
      ]
     },
     "execution_count": 2,
     "metadata": {},
     "output_type": "execute_result"
    }
   ],
   "execution_count": 2
  },
  {
   "metadata": {
    "ExecuteTime": {
     "end_time": "2025-03-09T01:07:16.114784Z",
     "start_time": "2025-03-09T01:07:16.097394Z"
    }
   },
   "cell_type": "code",
   "source": [
    "#store total sales\n",
    "total = sum(sales)\n",
    "#round two 2 decimal places\n",
    "\n",
    "round(total,2)\n"
   ],
   "id": "2c332bb8aa6c53ee",
   "outputs": [
    {
     "data": {
      "text/plain": [
       "378"
      ]
     },
     "execution_count": 3,
     "metadata": {},
     "output_type": "execute_result"
    }
   ],
   "execution_count": 3
  },
  {
   "metadata": {
    "ExecuteTime": {
     "end_time": "2025-03-09T01:22:09.684325Z",
     "start_time": "2025-03-09T01:22:09.669557Z"
    }
   },
   "cell_type": "code",
   "source": [
    "#len\n",
    "#count the number of sales\n",
    "len(sales)"
   ],
   "id": "9dbdcefe17ad8201",
   "outputs": [
    {
     "data": {
      "text/plain": [
       "3"
      ]
     },
     "execution_count": 4,
     "metadata": {},
     "output_type": "execute_result"
    }
   ],
   "execution_count": 4
  },
  {
   "metadata": {},
   "cell_type": "code",
   "outputs": [],
   "execution_count": null,
   "source": [
    "# Find out more about len()\n",
    "print(help (len))\n",
    "\n",
    "print(help(int))"
   ],
   "id": "89568d049a93fd9d"
  },
  {
   "metadata": {},
   "cell_type": "code",
   "outputs": [],
   "execution_count": null,
   "source": [
    "course_ratings = {\"LLM Concepts\": 4.7,\n",
    "                  \"Introduction to Data Pipelines\": 4.75,\n",
    "                  \"AI Ethics\": 4.62,\n",
    "                  \"Introduction to dbt\": 4.81}\n",
    "\n",
    "# Print the number of key-value pairs\n",
    "num_courses = len(course_ratings)\n",
    "print(num_courses,2)\n",
    "course_completions = [97, 83, 121, 205, 56, 174, 92, 117, 164]\n",
    "\n",
    "# Find the number of courses\n",
    "num_courses = len(course_completions)\n",
    "print(num_courses)"
   ],
   "id": "518a209fc719a88a"
  },
  {
   "metadata": {},
   "cell_type": "code",
   "outputs": [],
   "execution_count": null,
   "source": [
    "# Print the average number of completions, rounded to one decimal places\n",
    "print(round(sum(course_completions) / len(course_completions), 1))\n"
   ],
   "id": "de368367200dec73"
  },
  {
   "metadata": {
    "ExecuteTime": {
     "end_time": "2025-03-09T01:45:10.083854Z",
     "start_time": "2025-03-09T01:45:10.074159Z"
    }
   },
   "cell_type": "code",
   "source": [
    "#Modules\n",
    "#python scripts that contain functions and attributes\n",
    "\n",
    "#import module\n",
    "#import <module>\n",
    "import os\n",
    "\n",
    "os.environ\n",
    "#informaton of o local enviroment\n",
    "\n"
   ],
   "id": "c21faf8cfa2f127e",
   "outputs": [
    {
     "data": {
      "text/plain": [
       "environ{'HOMEBREW_PREFIX': '/opt/homebrew',\n",
       "        'LC_ALL': 'en_US.UTF-8',\n",
       "        'LDFLAGS': '-L/opt/homebrew/opt/openblas/lib',\n",
       "        'ZSH': '/Users/jorgejimenez/.oh-my-zsh',\n",
       "        'PROJ_DATA': '/opt/anaconda3/share/proj',\n",
       "        'HOMEBREW_REPOSITORY': '/opt/homebrew',\n",
       "        'GSETTINGS_SCHEMA_DIR': '/opt/anaconda3/share/glib-2.0/schemas',\n",
       "        'POSH_PROMPT_COUNT': '0',\n",
       "        'ANDROID_HOME': '/Users/jorgejimenez/Library/Android/sdk',\n",
       "        'PATH': '/Users/jorgejimenez/PycharmProjects/ProcesamientoIM-Proyecto/.venv/bin:/opt/homebrew/opt/openblas/bin:/opt/anaconda3/bin:/opt/anaconda3/condabin:/Users/jorgejimenez/.nvm/versions/node/v22.8.0/bin:/Library/Frameworks/Python.framework/Versions/3.12/bin:/opt/homebrew/bin:/opt/homebrew/sbin:/usr/local/bin:/System/Cryptexes/App/usr/bin:/usr/bin:/bin:/usr/sbin:/sbin:/var/run/com.apple.security.cryptexd/codex.system/bootstrap/usr/local/bin:/var/run/com.apple.security.cryptexd/codex.system/bootstrap/usr/bin:/var/run/com.apple.security.cryptexd/codex.system/bootstrap/usr/appleinternal/bin:/Library/Apple/usr/bin:/Users/jorgejimenez/.cargo/bin:/Users/jorgejimenez/Library/Android/sdk/cmdline-tools/latest/bin:/Users/jorgejimenez/Library/Android/sdk/emulator:/Users/jorgejimenez/Library/Android/sdk/platform-tools:/Users/jorgejimenez/.rvm/bin',\n",
       "        'CONDA_PREFIX': '/opt/anaconda3',\n",
       "        'LOGNAME': 'jorgejimenez',\n",
       "        'LS_COLORS': 'di=1;36:ln=35:so=32:pi=33:ex=31:bd=34;46:cd=34;43:su=30;41:sg=30;46:tw=30;42:ow=30;43',\n",
       "        'CPL_ZIP_ENCODING': 'UTF-8',\n",
       "        'XPC_FLAGS': '0x0',\n",
       "        '__CF_USER_TEXT_ENCODING': '0x1F7:0x0:0x0',\n",
       "        'NVM_CD_FLAGS': '-q',\n",
       "        'POSH_SHELL_VERSION': '5.9',\n",
       "        'rvm_prefix': '/Users/jorgejimenez',\n",
       "        '_CE_M': '',\n",
       "        'NVM_DIR': '/Users/jorgejimenez/.nvm',\n",
       "        'VIRTUAL_ENV': '/Users/jorgejimenez/PycharmProjects/ProcesamientoIM-Proyecto/.venv',\n",
       "        'POWERLINE_COMMAND': 'oh-my-posh',\n",
       "        'CONDA_SHLVL': '1',\n",
       "        'rvm_version': '1.29.12 (latest)',\n",
       "        'LESS': '-R',\n",
       "        'LSCOLORS': 'Gxfxcxdxbxegedabagacad',\n",
       "        'CONDA_EXE': '/opt/anaconda3/bin/conda',\n",
       "        'OSTYPE': 'darwin24.0',\n",
       "        'POSH_PID': '98510',\n",
       "        'GDAL_DRIVER_PATH': '/opt/anaconda3/lib/gdalplugins',\n",
       "        'CONDA_DEFAULT_ENV': 'base',\n",
       "        'XPC_SERVICE_NAME': 'application.com.jetbrains.pycharm.10687213.34989312',\n",
       "        'HOMEBREW_CELLAR': '/opt/homebrew/Cellar',\n",
       "        'NVM_BIN': '/Users/jorgejimenez/.nvm/versions/node/v22.8.0/bin',\n",
       "        'CONDA_PROMPT_MODIFIER': '(base) ',\n",
       "        'GSETTINGS_SCHEMA_DIR_CONDA_BACKUP': '',\n",
       "        'COMMAND_MODE': 'unix2003',\n",
       "        'INFOPATH': '/opt/homebrew/share/info:',\n",
       "        'SHELL': '/bin/zsh',\n",
       "        'PYTHONPATH': '/Users/jorgejimenez/Documents/UP/DataScienceB:/Applications/PyCharm.app/Contents/plugins/python-ce/helpers/pydev:/Applications/PyCharm.app/Contents/plugins/python/helpers-pro/jupyter_debug',\n",
       "        'TMPDIR': '/var/folders/_s/hp45g33j2d710jh6kddhpsx40000gq/T/',\n",
       "        '__CFBundleIdentifier': 'com.jetbrains.pycharm',\n",
       "        'rvm_bin_path': '/Users/jorgejimenez/.rvm/bin',\n",
       "        'HOME': '/Users/jorgejimenez',\n",
       "        'NVM_INC': '/Users/jorgejimenez/.nvm/versions/node/v22.8.0/include/node',\n",
       "        'PROJ_NETWORK': 'ON',\n",
       "        '_CE_CONDA': '',\n",
       "        'ZLE_RPROMPT_INDENT': '0',\n",
       "        'LANG': 'en_US.UTF-8',\n",
       "        'CPPFLAGS': '-I/opt/homebrew/opt/openblas/include',\n",
       "        'rvm_path': '/Users/jorgejimenez/.rvm',\n",
       "        'LC_CTYPE': 'en_US.UTF-8',\n",
       "        'LANGUAGE': '',\n",
       "        'POSH_THEME': '/Users/jorgejimenez/.poshthemes/custom.omp.json',\n",
       "        'PS1': '(.venv) ',\n",
       "        'SSH_AUTH_SOCK': '/private/tmp/com.apple.launchd.Sixcq1jnhp/Listeners',\n",
       "        'OLDPWD': '/',\n",
       "        'GDAL_DATA': '/opt/anaconda3/share/gdal',\n",
       "        'PAGER': 'cat',\n",
       "        'USER': 'jorgejimenez',\n",
       "        'PWD': '/Users/jorgejimenez/Documents/UP/DataScienceB',\n",
       "        'CONDA_PYTHON_EXE': '/opt/anaconda3/bin/python',\n",
       "        'JPY_SESSION_NAME': 'DATACAMPpy/intermediatepythondev.ipynb',\n",
       "        'JPY_PARENT_PID': '411',\n",
       "        'PYDEVD_USE_FRAME_EVAL': 'NO',\n",
       "        'TERM': 'xterm-color',\n",
       "        'CLICOLOR': '1',\n",
       "        'FORCE_COLOR': '1',\n",
       "        'CLICOLOR_FORCE': '1',\n",
       "        'GIT_PAGER': 'cat',\n",
       "        'MPLBACKEND': 'module://matplotlib_inline.backend_inline'}"
      ]
     },
     "execution_count": 5,
     "metadata": {},
     "output_type": "execute_result"
    }
   ],
   "execution_count": 5
  },
  {
   "metadata": {},
   "cell_type": "code",
   "outputs": [],
   "execution_count": null,
   "source": [
    "#importing a whole module can require a lot of memory\n",
    "#can import a specific function from a module\n",
    "from os import chdir"
   ],
   "id": "831fba974e99fbca"
  },
  {
   "metadata": {},
   "cell_type": "code",
   "outputs": [],
   "execution_count": null,
   "source": [
    "# Import the string module\n",
    "import string\n",
    "# Print all ASCII lowercase characters\n",
    "print(string.ascii_lowercase)\n",
    "\n",
    "# Print all punctuation\n",
    "print(string.punctuation)"
   ],
   "id": "90c8213bf8d159ba"
  },
  {
   "metadata": {},
   "cell_type": "code",
   "outputs": [],
   "execution_count": null,
   "source": [
    "# Import date from the datetime module\n",
    "from datetime import date\n",
    "# Create a variable called deadline\n",
    "deadline = date(2024, 1, 19)\n",
    "\n",
    "# Check the data type\n",
    "print(type(deadline))\n",
    "\n",
    "# Print the deadline\n",
    "print(deadline)"
   ],
   "id": "1a649f5c161ca59d"
  },
  {
   "metadata": {},
   "cell_type": "code",
   "outputs": [],
   "execution_count": null,
   "source": [
    "#module are python files\n",
    "#"
   ],
   "id": "b61d4bcb3cba91bf"
  }
 ],
 "metadata": {
  "kernelspec": {
   "display_name": "Python 3",
   "language": "python",
   "name": "python3"
  },
  "language_info": {
   "codemirror_mode": {
    "name": "ipython",
    "version": 2
   },
   "file_extension": ".py",
   "mimetype": "text/x-python",
   "name": "python",
   "nbconvert_exporter": "python",
   "pygments_lexer": "ipython2",
   "version": "2.7.6"
  }
 },
 "nbformat": 4,
 "nbformat_minor": 5
}
