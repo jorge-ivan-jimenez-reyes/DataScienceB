{
 "cells": [
  {
   "cell_type": "code",
   "execution_count": null,
   "id": "initial_id",
   "metadata": {
    "collapsed": true
   },
   "outputs": [],
   "source": [
    "#Build In Functions\n",
    "#functons we now\n",
    "print(\"displays the output\")\n",
    "\n"
   ]
  },
  {
   "metadata": {
    "ExecuteTime": {
     "end_time": "2025-03-09T01:05:54.080477Z",
     "start_time": "2025-03-09T01:05:54.072215Z"
    }
   },
   "cell_type": "code",
   "source": [
    "#max and min\n",
    "sales = [125,126,127]\n",
    "max(sales)\n",
    "#sum and round\n",
    "sum(sales)"
   ],
   "id": "1e9cc91f4025ec5c",
   "outputs": [
    {
     "data": {
      "text/plain": [
       "378"
      ]
     },
     "execution_count": 2,
     "metadata": {},
     "output_type": "execute_result"
    }
   ],
   "execution_count": 2
  },
  {
   "metadata": {
    "ExecuteTime": {
     "end_time": "2025-03-09T01:07:16.114784Z",
     "start_time": "2025-03-09T01:07:16.097394Z"
    }
   },
   "cell_type": "code",
   "source": [
    "#store total sales\n",
    "total = sum(sales)\n",
    "#round two 2 decimal places\n",
    "\n",
    "round(total,2)\n"
   ],
   "id": "2c332bb8aa6c53ee",
   "outputs": [
    {
     "data": {
      "text/plain": [
       "378"
      ]
     },
     "execution_count": 3,
     "metadata": {},
     "output_type": "execute_result"
    }
   ],
   "execution_count": 3
  },
  {
   "metadata": {
    "ExecuteTime": {
     "end_time": "2025-03-09T01:22:09.684325Z",
     "start_time": "2025-03-09T01:22:09.669557Z"
    }
   },
   "cell_type": "code",
   "source": [
    "#len\n",
    "#count the number of sales\n",
    "len(sales)"
   ],
   "id": "9dbdcefe17ad8201",
   "outputs": [
    {
     "data": {
      "text/plain": [
       "3"
      ]
     },
     "execution_count": 4,
     "metadata": {},
     "output_type": "execute_result"
    }
   ],
   "execution_count": 4
  },
  {
   "metadata": {},
   "cell_type": "code",
   "outputs": [],
   "execution_count": null,
   "source": [
    "# Find out more about len()\n",
    "print(help (len))\n",
    "\n",
    "print(help(int))"
   ],
   "id": "89568d049a93fd9d"
  },
  {
   "metadata": {},
   "cell_type": "code",
   "outputs": [],
   "execution_count": null,
   "source": [
    "course_ratings = {\"LLM Concepts\": 4.7,\n",
    "                  \"Introduction to Data Pipelines\": 4.75,\n",
    "                  \"AI Ethics\": 4.62,\n",
    "                  \"Introduction to dbt\": 4.81}\n",
    "\n",
    "# Print the number of key-value pairs\n",
    "num_courses = len(course_ratings)\n",
    "print(num_courses,2)\n",
    "course_completions = [97, 83, 121, 205, 56, 174, 92, 117, 164]\n",
    "\n",
    "# Find the number of courses\n",
    "num_courses = len(course_completions)\n",
    "print(num_courses)"
   ],
   "id": "518a209fc719a88a"
  },
  {
   "metadata": {},
   "cell_type": "code",
   "outputs": [],
   "execution_count": null,
   "source": [
    "# Print the average number of completions, rounded to one decimal places\n",
    "print(round(sum(course_completions) / len(course_completions), 1))\n"
   ],
   "id": "de368367200dec73"
  },
  {
   "metadata": {},
   "cell_type": "code",
   "outputs": [],
   "execution_count": null,
   "source": [
    "#Modules\n",
    "#python scripts that contain functions and attributes\n",
    "\n",
    "#import module\n",
    "#import <module>\n"
   ],
   "id": "c21faf8cfa2f127e"
  }
 ],
 "metadata": {
  "kernelspec": {
   "display_name": "Python 3",
   "language": "python",
   "name": "python3"
  },
  "language_info": {
   "codemirror_mode": {
    "name": "ipython",
    "version": 2
   },
   "file_extension": ".py",
   "mimetype": "text/x-python",
   "name": "python",
   "nbconvert_exporter": "python",
   "pygments_lexer": "ipython2",
   "version": "2.7.6"
  }
 },
 "nbformat": 4,
 "nbformat_minor": 5
}
