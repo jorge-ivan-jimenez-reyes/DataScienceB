{
 "cells": [
  {
   "metadata": {},
   "cell_type": "markdown",
   "source": [
    "# 📊 Clutch Revenue: Predicción del Valor Comercial en la NBA\n",
    "\n",
    "**Objetivo:**\n",
    "- Predecir el valor comercial potencial de un jugador NBA en función de su rendimiento “clutch” (momentos críticos del juego) y su visibilidad mediática, para optimizar decisiones de marketing, patrocinios y fichajes.\n",
    "- Contestar, desde la lógica de negocio, las preguntas clave:\n",
    "  1. ¿Qué significa “jugador clutch” y cómo lo medimos de forma cuantitativa?\n",
    "  2. ¿Qué entendemos por “valor comercial”? ¿Ingreso directo (entradas, camisetas), impacto en patrocinio o valor proyectado del contrato?\n",
    "  3. ¿Puede este modelo extenderse a otras ligas o categorías?\n",
    "\n",
    "---\n",
    "\n",
    "## 1. ¿Qué archivos leer y por qué?\n",
    "\n",
    "Para nuestro flujo de trabajo **de limpieza y análisis**, nos centraremos en **estos CSV**:\n",
    "\n",
    "1. **`play_by_play.csv`**\n",
    "   - Contiene cada jugada de todos los partidos.\n",
    "   - Crucial para **identificar jugadas “clutch”** (últimos 5 minutos y marcador cerrado).\n",
    "\n",
    "2. **`game.csv`** (o `game_info.csv`)\n",
    "   - Datos de cada partido: fecha, equipos, local/visitante, temporada, etc.\n",
    "   - Necesario para saber en qué año jugó cada jugada, agrupar por temporada, y contextualizar.\n",
    "\n",
    "3. **`player.csv`** (o `common_player_info.csv`)\n",
    "   - Información estática de cada jugador: nombre, equipo, posición, fecha de nacimiento, etc.\n",
    "   - Se usa para **asignar nombre/edad/equipo** a cada `player_id`.\n",
    "\n",
    "4. **`other_stats.csv`** (o `box_scores.csv`)\n",
    "   - Estadísticas acumuladas de cada jugador en cada partido (puntos, rebotes, asistencias, minutos, etc.).\n",
    "   - Nos sirve para calcular métricas globales de rendimiento (por ejemplo, Win Shares, minutos totales en clutch, etc.) y para estudiar correlaciones con el clutch performance.\n",
    "\n",
    "> **Nota:** Archivos como `team.csv`, `line_score.csv`, `draft_history.csv`, `inactive_players.csv`, `officials.csv` no son prioritarios para la métrica clutch+valor comercial. Podemos ignorarlos en esta fase.\n",
    "\n",
    "---\n",
    "\n",
    "## 2. Estructura del Notebook\n",
    "\n",
    "A continuación encontrarás un **notebook** dividido en celdas Markdown y código (`Python + Pandas`), paso a paso:\n",
    "\n",
    "1. **Introducción y Objetivos** (Markdown)\n",
    "2. **Carga Parcial de Archivos (solo columnas necesarias)**\n",
    "3. **Filtrado de Jugadas Clutch**\n",
    "4. **Cálculo de Estadísticas Clutch por Jugador**\n",
    "5. **Definición de “Valor Comercial” y creación de proxies**\n",
    "6. **Construcción de la Tabla Final (métricas + proxies)**\n",
    "7. **Visualizaciones y Storytelling**\n",
    "8. **Respuestas de Negocio en el Notebook**\n",
    "9. **Extender a Otras Ligas / Categorías** (Markdown)\n",
    "\n",
    "---\n",
    "\n"
   ],
   "id": "6cc6d3bb03afa87e"
  },
  {
   "metadata": {
    "ExecuteTime": {
     "end_time": "2025-06-02T03:43:12.773450Z",
     "start_time": "2025-06-02T03:43:12.771025Z"
    }
   },
   "cell_type": "code",
   "source": [
    "import pandas as pd\n",
    "import numpy as np\n",
    "import matplotlib.pyplot as plt\n",
    "import seaborn as sns\n",
    "\n",
    "sns.set_style(\"whitegrid\")\n",
    "plt.rcParams[\"figure.figsize\"] = (10, 6)\n"
   ],
   "id": "95a617fd1c126804",
   "outputs": [],
   "execution_count": 1
  },
  {
   "metadata": {
    "ExecuteTime": {
     "end_time": "2025-06-02T03:43:12.876973Z",
     "start_time": "2025-06-02T03:43:12.842238Z"
    }
   },
   "cell_type": "code",
   "source": [
    "preview_pb = pd.read_csv(\"play_by_play.csv\", nrows=5)\n",
    "preview_g  = pd.read_csv(\"game.csv\", nrows=5)\n",
    "preview_p  = pd.read_csv(\"player.csv\", nrows=5)\n",
    "preview_os = pd.read_csv(\"other_stats.csv\", nrows=5)\n",
    "\n",
    "print(\"Columnas play_by_play.csv:\", preview_pb.columns.tolist())\n",
    "print(\"Columnas game.csv:\", preview_g.columns.tolist())\n",
    "print(\"Columnas player.csv:\", preview_p.columns.tolist())\n",
    "print(\"Columnas other_stats.csv:\", preview_os.columns.tolist())\n"
   ],
   "id": "eeb165c7515b162",
   "outputs": [
    {
     "name": "stdout",
     "output_type": "stream",
     "text": [
      "Columnas play_by_play.csv: ['game_id', 'eventnum', 'eventmsgtype', 'eventmsgactiontype', 'period', 'wctimestring', 'pctimestring', 'homedescription', 'neutraldescription', 'visitordescription', 'score', 'scoremargin', 'person1type', 'player1_id', 'player1_name', 'player1_team_id', 'player1_team_city', 'player1_team_nickname', 'player1_team_abbreviation', 'person2type', 'player2_id', 'player2_name', 'player2_team_id', 'player2_team_city', 'player2_team_nickname', 'player2_team_abbreviation', 'person3type', 'player3_id', 'player3_name', 'player3_team_id', 'player3_team_city', 'player3_team_nickname', 'player3_team_abbreviation', 'video_available_flag']\n",
      "Columnas game.csv: ['season_id', 'team_id_home', 'team_abbreviation_home', 'team_name_home', 'game_id', 'game_date', 'matchup_home', 'wl_home', 'min', 'fgm_home', 'fga_home', 'fg_pct_home', 'fg3m_home', 'fg3a_home', 'fg3_pct_home', 'ftm_home', 'fta_home', 'ft_pct_home', 'oreb_home', 'dreb_home', 'reb_home', 'ast_home', 'stl_home', 'blk_home', 'tov_home', 'pf_home', 'pts_home', 'plus_minus_home', 'video_available_home', 'team_id_away', 'team_abbreviation_away', 'team_name_away', 'matchup_away', 'wl_away', 'fgm_away', 'fga_away', 'fg_pct_away', 'fg3m_away', 'fg3a_away', 'fg3_pct_away', 'ftm_away', 'fta_away', 'ft_pct_away', 'oreb_away', 'dreb_away', 'reb_away', 'ast_away', 'stl_away', 'blk_away', 'tov_away', 'pf_away', 'pts_away', 'plus_minus_away', 'video_available_away', 'season_type']\n",
      "Columnas player.csv: ['id', 'full_name', 'first_name', 'last_name', 'is_active']\n",
      "Columnas other_stats.csv: ['game_id', 'league_id', 'team_id_home', 'team_abbreviation_home', 'team_city_home', 'pts_paint_home', 'pts_2nd_chance_home', 'pts_fb_home', 'largest_lead_home', 'lead_changes', 'times_tied', 'team_turnovers_home', 'total_turnovers_home', 'team_rebounds_home', 'pts_off_to_home', 'team_id_away', 'team_abbreviation_away', 'team_city_away', 'pts_paint_away', 'pts_2nd_chance_away', 'pts_fb_away', 'largest_lead_away', 'team_turnovers_away', 'total_turnovers_away', 'team_rebounds_away', 'pts_off_to_away']\n"
     ]
    }
   ],
   "execution_count": 2
  }
 ],
 "metadata": {
  "kernelspec": {
   "display_name": "Python 3",
   "language": "python",
   "name": "python3"
  },
  "language_info": {
   "codemirror_mode": {
    "name": "ipython",
    "version": 2
   },
   "file_extension": ".py",
   "mimetype": "text/x-python",
   "name": "python",
   "nbconvert_exporter": "python",
   "pygments_lexer": "ipython2",
   "version": "2.7.6"
  }
 },
 "nbformat": 4,
 "nbformat_minor": 5
}
