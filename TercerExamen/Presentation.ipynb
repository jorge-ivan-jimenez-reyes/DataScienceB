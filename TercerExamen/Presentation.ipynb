{
 "cells": [
  {
   "cell_type": "code",
   "id": "initial_id",
   "metadata": {
    "collapsed": true,
    "ExecuteTime": {
     "end_time": "2025-06-02T07:33:05.323201Z",
     "start_time": "2025-06-02T07:33:05.302107Z"
    }
   },
   "source": [
    "import pandas as pd\n",
    "import numpy as np\n",
    "import matplotlib.pyplot as plt\n",
    "import seaborn as sns\n",
    "import os\n",
    "from pathlib import Path\n",
    "\n",
    "%matplotlib inline\n",
    "\n",
    "sns.set_style(\"whitegrid\")\n",
    "plt.rcParams[\"figure.figsize\"] = (10, 6)\n"
   ],
   "outputs": [],
   "execution_count": 34
  },
  {
   "metadata": {
    "ExecuteTime": {
     "end_time": "2025-06-02T07:33:05.351709Z",
     "start_time": "2025-06-02T07:33:05.348543Z"
    }
   },
   "cell_type": "code",
   "source": [
    "# Verificación de archivos disponibles\n",
    "print(\"Archivos disponibles en el directorio actual:\")\n",
    "archivos_disponibles = [f for f in os.listdir() if f.endswith('.csv')]\n",
    "for archivo in archivos_disponibles:\n",
    "    print(f\" - {archivo}\")"
   ],
   "id": "1192bb230fb6bb1a",
   "outputs": [
    {
     "name": "stdout",
     "output_type": "stream",
     "text": [
      "Archivos disponibles en el directorio actual:\n",
      " - NBA_PBP_2017-18.csv\n",
      " - NBA_PBP_2019-20.csv\n",
      " - play_by_play.csv\n",
      " - player.csv\n",
      " - other_stats.csv\n",
      " - clutch_stats.csv\n",
      " - game_summary.csv\n",
      " - NBA_PBP_2016-17.csv\n",
      " - NBA_PBP_2018-19.csv\n",
      " - NBA_PBP_2020-21.csv\n",
      " - draft_history.csv\n",
      " - common_player_info.csv\n",
      " - NBA_PBP_2015-16.csv\n",
      " - game.csv\n"
     ]
    }
   ],
   "execution_count": 35
  },
  {
   "metadata": {
    "ExecuteTime": {
     "end_time": "2025-06-02T07:33:09.134851Z",
     "start_time": "2025-06-02T07:33:09.133289Z"
    }
   },
   "cell_type": "code",
   "source": "",
   "id": "df8a30ceb45e7c49",
   "outputs": [],
   "execution_count": null
  },
  {
   "metadata": {
    "ExecuteTime": {
     "end_time": "2025-06-02T07:33:09.147344Z",
     "start_time": "2025-06-02T07:33:09.145715Z"
    }
   },
   "cell_type": "code",
   "source": "",
   "id": "c2b8d6b754daf876",
   "outputs": [],
   "execution_count": null
  }
 ],
 "metadata": {
  "kernelspec": {
   "display_name": "Python 3",
   "language": "python",
   "name": "python3"
  },
  "language_info": {
   "codemirror_mode": {
    "name": "ipython",
    "version": 2
   },
   "file_extension": ".py",
   "mimetype": "text/x-python",
   "name": "python",
   "nbconvert_exporter": "python",
   "pygments_lexer": "ipython2",
   "version": "2.7.6"
  }
 },
 "nbformat": 4,
 "nbformat_minor": 5
}
