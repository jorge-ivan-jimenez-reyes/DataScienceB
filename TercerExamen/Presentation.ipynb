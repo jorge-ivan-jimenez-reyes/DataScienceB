{
 "cells": [
  {
   "cell_type": "code",
   "id": "initial_id",
   "metadata": {
    "collapsed": true,
    "ExecuteTime": {
     "end_time": "2025-06-02T07:09:05.323770Z",
     "start_time": "2025-06-02T07:09:05.309885Z"
    }
   },
   "source": [
    "import pandas as pd\n",
    "import numpy as np\n",
    "import matplotlib.pyplot as plt\n",
    "import seaborn as sns\n",
    "\n",
    "%matplotlib inline\n",
    "sns.set_style(\"whitegrid\")\n",
    "plt.rcParams[\"figure.figsize\"] = (10, 6)\n"
   ],
   "outputs": [],
   "execution_count": 1
  },
  {
   "metadata": {
    "ExecuteTime": {
     "end_time": "2025-06-02T07:09:18.977253Z",
     "start_time": "2025-06-02T07:09:18.953446Z"
    }
   },
   "cell_type": "code",
   "source": [
    "cols_plays = [\"game_id\", \"eventmsgtype\", \"period\", \"pctimestring\", \"scoremargin\", \"player1_id\", \"player1_name\"]\n",
    "dtypes_plays = {\n",
    "    \"game_id\": \"Int32\",\n",
    "    \"eventmsgtype\": \"UInt8\",\n",
    "    \"period\": \"UInt8\",\n",
    "    \"player1_id\": \"Int32\",\n",
    "    \"player1_name\": \"object\",\n",
    "    \"pctimestring\": \"object\",\n",
    "    \"scoremargin\": \"object\"\n",
    "}\n"
   ],
   "id": "6b5ffdae4f6394c2",
   "outputs": [],
   "execution_count": 2
  },
  {
   "metadata": {
    "ExecuteTime": {
     "end_time": "2025-06-02T07:09:31.108526Z",
     "start_time": "2025-06-02T07:09:31.095785Z"
    }
   },
   "cell_type": "code",
   "source": [
    "def cargar_jugadas(path=\"play_by_play.csv\"):\n",
    "    return pd.read_csv(path, usecols=cols_plays, dtype=dtypes_plays)\n"
   ],
   "id": "9a31e9af7a55f58b",
   "outputs": [],
   "execution_count": 3
  },
  {
   "metadata": {
    "ExecuteTime": {
     "end_time": "2025-06-02T07:10:09.165526Z",
     "start_time": "2025-06-02T07:09:38.493118Z"
    }
   },
   "cell_type": "code",
   "source": "df = cargar_jugadas(\"play_by_play.csv\")\n",
   "id": "e009dbfa2f6e8769",
   "outputs": [],
   "execution_count": 4
  },
  {
   "metadata": {},
   "cell_type": "code",
   "outputs": [],
   "execution_count": null,
   "source": [
    "def filtrar_jugadas_clutch(df):\n",
    "    df = df.copy()\n",
    "    df[\"scoremargin\"] = pd.to_numeric(df[\"scoremargin\"], errors=\"coerce\").astype(\"Int16\")\n",
    "\n",
    "    # Convertir a segundos\n",
    "    mask_time = df[\"pctimestring\"].str.match(r\"^\\d{1,2}:\\d{2}$\", na=False)\n",
    "    mins = pd.to_numeric(df.loc[mask_time, \"pctimestring\"].str.split(\":\").str[0], errors=\"coerce\")\n",
    "    secs = pd.to_numeric(df.loc[mask_time, \"pctimestring\"].str.split(\":\").str[1], errors=\"coerce\")\n",
    "    df.loc[mask_time, \"seconds_remaining\"] = mins * 60 + secs\n",
    "\n",
    "    clutch = df[\n",
    "        (df[\"period\"] >= 4) &\n",
    "        (df[\"seconds_remaining\"] <= 300) &\n",
    "        (df[\"scoremargin\"].abs() <= 5)\n",
    "    ].copy()\n",
    "\n",
    "    return clutch\n"
   ],
   "id": "df8a30ceb45e7c49"
  }
 ],
 "metadata": {
  "kernelspec": {
   "display_name": "Python 3",
   "language": "python",
   "name": "python3"
  },
  "language_info": {
   "codemirror_mode": {
    "name": "ipython",
    "version": 2
   },
   "file_extension": ".py",
   "mimetype": "text/x-python",
   "name": "python",
   "nbconvert_exporter": "python",
   "pygments_lexer": "ipython2",
   "version": "2.7.6"
  }
 },
 "nbformat": 4,
 "nbformat_minor": 5
}
