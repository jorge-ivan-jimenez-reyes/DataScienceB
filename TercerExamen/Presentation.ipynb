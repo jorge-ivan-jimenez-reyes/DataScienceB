{
 "cells": [
  {
   "cell_type": "code",
   "id": "initial_id",
   "metadata": {
    "collapsed": true,
    "ExecuteTime": {
     "end_time": "2025-06-02T07:22:23.187807Z",
     "start_time": "2025-06-02T07:22:22.788282Z"
    }
   },
   "source": [
    "import pandas as pd\n",
    "import numpy as np\n",
    "import matplotlib.pyplot as plt\n",
    "import seaborn as sns\n",
    "\n",
    "%matplotlib inline\n",
    "\n",
    "sns.set_style(\"whitegrid\")\n",
    "plt.rcParams[\"figure.figsize\"] = (10, 6)\n"
   ],
   "outputs": [],
   "execution_count": 7
  },
  {
   "metadata": {
    "ExecuteTime": {
     "end_time": "2025-06-02T07:22:38.503856Z",
     "start_time": "2025-06-02T07:22:38.456104Z"
    }
   },
   "cell_type": "code",
   "source": [
    "def filtrar_clutch(df):\n",
    "    \"\"\"\n",
    "    Filtra jugadas clutch:\n",
    "    - periodo >= 4\n",
    "    - últimos 5 minutos (<= 300s)\n",
    "    - scoremargin entre -5 y +5\n",
    "    \"\"\"\n",
    "    df = df.copy()\n",
    "    df[\"scoremargin\"] = pd.to_numeric(df[\"scoremargin\"], errors=\"coerce\")\n",
    "    df[\"seconds_remaining\"] = np.where(\n",
    "        df[\"pctimestring\"].str.match(r\"^\\d{1,2}:\\d{2}$\", na=False),\n",
    "        df[\"pctimestring\"].str.split(\":\").str[0].astype(int) * 60 +\n",
    "        df[\"pctimestring\"].str.split(\":\").str[1].astype(int),\n",
    "        np.nan\n",
    "    )\n",
    "\n",
    "    clutch = df[\n",
    "        (df[\"period\"] >= 4) &\n",
    "        (df[\"seconds_remaining\"] <= 300) &\n",
    "        (df[\"scoremargin\"].abs() <= 5)\n",
    "    ].copy()\n",
    "\n",
    "    return clutch\n"
   ],
   "id": "6b5ffdae4f6394c2",
   "outputs": [],
   "execution_count": 8
  },
  {
   "metadata": {
    "ExecuteTime": {
     "end_time": "2025-06-02T07:22:56.581800Z",
     "start_time": "2025-06-02T07:22:56.565321Z"
    }
   },
   "cell_type": "code",
   "source": [
    "cols = [\n",
    "    \"game_id\", \"eventmsgtype\", \"period\", \"pctimestring\",\n",
    "    \"scoremargin\", \"player1_id\", \"player1_name\",\n",
    "    \"homedescription\", \"visitordescription\"\n",
    "]\n",
    "\n",
    "dtypes = {\n",
    "    \"game_id\": \"Int32\",\n",
    "    \"eventmsgtype\": \"UInt8\",\n",
    "    \"period\": \"UInt8\",\n",
    "    \"player1_id\": \"Int32\",\n",
    "    \"player1_name\": \"object\",\n",
    "    \"homedescription\": \"object\",\n",
    "    \"visitordescription\": \"object\"\n",
    "}\n"
   ],
   "id": "9a31e9af7a55f58b",
   "outputs": [],
   "execution_count": 11
  },
  {
   "metadata": {
    "jupyter": {
     "is_executing": true
    },
    "ExecuteTime": {
     "start_time": "2025-06-02T07:23:25.024761Z"
    }
   },
   "cell_type": "code",
   "source": [
    "df_1516 = pd.read_csv(\"NBA_PBP_2015–16.csv\", usecols=cols, dtype=dtypes)\n",
    "df_1516_clutch = filtrar_clutch(df_1516)\n",
    "print(f\"2015–16 → {len(df_1516_clutch)} jugadas clutch\")\n"
   ],
   "id": "e009dbfa2f6e8769",
   "outputs": [],
   "execution_count": null
  },
  {
   "metadata": {
    "ExecuteTime": {
     "end_time": "2025-06-02T07:10:16.569108Z",
     "start_time": "2025-06-02T07:10:16.542754Z"
    }
   },
   "cell_type": "code",
   "source": [
    "def filtrar_jugadas_clutch(df):\n",
    "    df = df.copy()\n",
    "    df[\"scoremargin\"] = pd.to_numeric(df[\"scoremargin\"], errors=\"coerce\").astype(\"Int16\")\n",
    "\n",
    "    # Convertir a segundos\n",
    "    mask_time = df[\"pctimestring\"].str.match(r\"^\\d{1,2}:\\d{2}$\", na=False)\n",
    "    mins = pd.to_numeric(df.loc[mask_time, \"pctimestring\"].str.split(\":\").str[0], errors=\"coerce\")\n",
    "    secs = pd.to_numeric(df.loc[mask_time, \"pctimestring\"].str.split(\":\").str[1], errors=\"coerce\")\n",
    "    df.loc[mask_time, \"seconds_remaining\"] = mins * 60 + secs\n",
    "\n",
    "    clutch = df[\n",
    "        (df[\"period\"] >= 4) &\n",
    "        (df[\"seconds_remaining\"] <= 300) &\n",
    "        (df[\"scoremargin\"].abs() <= 5)\n",
    "    ].copy()\n",
    "\n",
    "    return clutch\n"
   ],
   "id": "df8a30ceb45e7c49",
   "outputs": [],
   "execution_count": 5
  },
  {
   "metadata": {
    "ExecuteTime": {
     "end_time": "2025-06-02T07:14:01.477779Z",
     "start_time": "2025-06-02T07:10:25.002108Z"
    }
   },
   "cell_type": "code",
   "source": "df_clutch = filtrar_jugadas_clutch(df)\n",
   "id": "c2b8d6b754daf876",
   "outputs": [],
   "execution_count": 6
  }
 ],
 "metadata": {
  "kernelspec": {
   "display_name": "Python 3",
   "language": "python",
   "name": "python3"
  },
  "language_info": {
   "codemirror_mode": {
    "name": "ipython",
    "version": 2
   },
   "file_extension": ".py",
   "mimetype": "text/x-python",
   "name": "python",
   "nbconvert_exporter": "python",
   "pygments_lexer": "ipython2",
   "version": "2.7.6"
  }
 },
 "nbformat": 4,
 "nbformat_minor": 5
}
