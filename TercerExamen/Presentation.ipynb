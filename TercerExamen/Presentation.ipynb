{
 "cells": [
  {
   "cell_type": "code",
   "id": "initial_id",
   "metadata": {
    "collapsed": true,
    "ExecuteTime": {
     "end_time": "2025-06-02T07:30:02.789909Z",
     "start_time": "2025-06-02T07:30:02.778708Z"
    }
   },
   "source": [
    "import pandas as pd\n",
    "import numpy as np\n",
    "import matplotlib.pyplot as plt\n",
    "import seaborn as sns\n",
    "import os\n",
    "from pathlib import Path\n",
    "\n",
    "%matplotlib inline\n",
    "\n",
    "sns.set_style(\"whitegrid\")\n",
    "plt.rcParams[\"figure.figsize\"] = (10, 6)\n"
   ],
   "outputs": [],
   "execution_count": 26
  },
  {
   "metadata": {
    "ExecuteTime": {
     "end_time": "2025-06-02T07:30:02.838254Z",
     "start_time": "2025-06-02T07:30:02.834190Z"
    }
   },
   "cell_type": "code",
   "source": [
    "# Verificación de archivos disponibles\n",
    "print(\"Archivos disponibles en el directorio actual:\")\n",
    "archivos_disponibles = [f for f in os.listdir() if f.endswith('.csv')]\n",
    "for archivo in archivos_disponibles:\n",
    "    print(f\" - {archivo}\")"
   ],
   "id": "1192bb230fb6bb1a",
   "outputs": [
    {
     "name": "stdout",
     "output_type": "stream",
     "text": [
      "Archivos disponibles en el directorio actual:\n",
      " - NBA_PBP_2017-18.csv\n",
      " - NBA_PBP_2019-20.csv\n",
      " - play_by_play.csv\n",
      " - player.csv\n",
      " - other_stats.csv\n",
      " - clutch_stats.csv\n",
      " - game_summary.csv\n",
      " - NBA_PBP_2016-17.csv\n",
      " - NBA_PBP_2018-19.csv\n",
      " - NBA_PBP_2020-21.csv\n",
      " - draft_history.csv\n",
      " - common_player_info.csv\n",
      " - NBA_PBP_2015-16.csv\n",
      " - game.csv\n"
     ]
    }
   ],
   "execution_count": 27
  },
  {
   "metadata": {
    "ExecuteTime": {
     "end_time": "2025-06-02T07:30:02.900556Z",
     "start_time": "2025-06-02T07:30:02.897127Z"
    }
   },
   "cell_type": "code",
   "source": [
    "def filtrar_jugadas_clutch(df):\n",
    "    df = df.copy()\n",
    "    df[\"scoremargin\"] = pd.to_numeric(df[\"scoremargin\"], errors=\"coerce\").astype(\"Int16\")\n",
    "\n",
    "    # Convertir a segundos\n",
    "    # Verificar qué columna de tiempo está disponible\n",
    "    time_column = \"pctimestring\" if \"pctimestring\" in df.columns else \"wctimestring\"\n",
    "\n",
    "    if time_column in df.columns:\n",
    "        mask_time = df[time_column].str.match(r\"^\\d{1,2}:\\d{2}$\", na=False)\n",
    "        mins = pd.to_numeric(df.loc[mask_time, time_column].str.split(\":\").str[0], errors=\"coerce\")\n",
    "        secs = pd.to_numeric(df.loc[mask_time, time_column].str.split(\":\").str[1], errors=\"coerce\")\n",
    "        df.loc[mask_time, \"seconds_remaining\"] = mins * 60 + secs\n",
    "    else:\n",
    "        df[\"seconds_remaining\"] = None\n",
    "        print(f\"Advertencia: No se encontró una columna de tiempo válida\")\n",
    "\n",
    "    clutch = df[\n",
    "        (df[\"period\"] >= 4) &\n",
    "        (df[\"seconds_remaining\"].notna()) &\n",
    "        (df[\"seconds_remaining\"] <= 300) &\n",
    "        (df[\"scoremargin\"].abs() <= 5)\n",
    "    ].copy()\n",
    "\n",
    "    return clutch"
   ],
   "id": "2745ac19555d8e8",
   "outputs": [],
   "execution_count": 28
  },
  {
   "metadata": {
    "ExecuteTime": {
     "end_time": "2025-06-02T07:30:02.928294Z",
     "start_time": "2025-06-02T07:30:02.924975Z"
    }
   },
   "cell_type": "code",
   "source": [
    "cols = [\n",
    "    \"game_id\", \"eventmsgtype\", \"period\",\n",
    "    # Incluir ambos nombres posibles para la columna de tiempo\n",
    "    \"pctimestring\", \"wctimestring\",\n",
    "    \"scoremargin\", \"player1_id\", \"player1_name\",\n",
    "    \"homedescription\", \"visitordescription\"\n",
    "]\n",
    "\n",
    "dtypes = {\n",
    "    \"game_id\": \"Int64\",  # Cambiado a Int64 para mayor compatibilidad\n",
    "    \"eventmsgtype\": \"Int8\",  # Cambiado a Int8 para permitir valores negativos/NA\n",
    "    \"period\": \"Int8\",\n",
    "    \"player1_id\": \"Int64\",\n",
    "    \"player1_name\": \"object\",\n",
    "    \"homedescription\": \"object\",\n",
    "    \"visitordescription\": \"object\"\n",
    "}"
   ],
   "id": "9a31e9af7a55f58b",
   "outputs": [],
   "execution_count": 29
  },
  {
   "metadata": {
    "ExecuteTime": {
     "end_time": "2025-06-02T07:30:07.046207Z",
     "start_time": "2025-06-02T07:30:02.943997Z"
    }
   },
   "cell_type": "code",
   "source": [
    "# Intentar cargar los archivos disponibles\n",
    "try:\n",
    "    # Verifica si existe el archivo\n",
    "    if 'NBA_PBP_2015-16.csv' in archivos_disponibles:\n",
    "        nombre_archivo = 'NBA_PBP_2015-16.csv'\n",
    "    elif 'NBA_PBP_2015–16.csv' in archivos_disponibles:  # Guión largo\n",
    "        nombre_archivo = 'NBA_PBP_2015–16.csv'\n",
    "    else:\n",
    "        # Buscar cualquier archivo que contenga PBP y 2015\n",
    "        archivos_pbp = [f for f in archivos_disponibles if 'PBP' in f and '2015' in f]\n",
    "        nombre_archivo = archivos_pbp[0] if archivos_pbp else None\n",
    "\n",
    "    if nombre_archivo:\n",
    "        print(f\"Cargando archivo: {nombre_archivo}\")\n",
    "        # Usar solo las columnas disponibles en el archivo\n",
    "        df_1516 = pd.read_csv(nombre_archivo, dtype={k:v for k,v in dtypes.items()\n",
    "                                                     if k not in ['pctimestring', 'wctimestring']})\n",
    "        df_1516_clutch = filtrar_jugadas_clutch(df_1516)\n",
    "        print(f\"2015-16 → {len(df_1516_clutch)} jugadas clutch\")\n",
    "    else:\n",
    "        print(\"No se encontró un archivo de datos compatible\")\n",
    "except Exception as e:\n",
    "    print(f\"Error al cargar el archivo: {e}\")\n",
    "    # Crear un pequeño dataframe de ejemplo para que podamos seguir con el código\n",
    "    df_1516_clutch = pd.DataFrame(columns=[\"game_id\", \"eventmsgtype\", \"player1_name\"])\n",
    "    print(\"Se ha creado un dataframe vacío para continuar\")\n"
   ],
   "id": "e009dbfa2f6e8769",
   "outputs": [
    {
     "name": "stdout",
     "output_type": "stream",
     "text": [
      "Cargando archivo: NBA_PBP_2015-16.csv\n",
      "Error al cargar el archivo: 'scoremargin'\n",
      "Se ha creado un dataframe vacío para continuar\n"
     ]
    }
   ],
   "execution_count": 30
  },
  {
   "metadata": {
    "ExecuteTime": {
     "end_time": "2025-06-02T07:30:07.081905Z",
     "start_time": "2025-06-02T07:30:07.078342Z"
    }
   },
   "cell_type": "code",
   "source": "",
   "id": "df8a30ceb45e7c49",
   "outputs": [],
   "execution_count": 31
  },
  {
   "metadata": {
    "ExecuteTime": {
     "end_time": "2025-06-02T07:30:11.404290Z",
     "start_time": "2025-06-02T07:30:07.116703Z"
    }
   },
   "cell_type": "code",
   "source": "",
   "id": "c2b8d6b754daf876",
   "outputs": [
    {
     "ename": "KeyboardInterrupt",
     "evalue": "",
     "output_type": "error",
     "traceback": [
      "\u001B[0;31m---------------------------------------------------------------------------\u001B[0m",
      "\u001B[0;31mKeyboardInterrupt\u001B[0m                         Traceback (most recent call last)",
      "Cell \u001B[0;32mIn[32], line 1\u001B[0m\n\u001B[0;32m----> 1\u001B[0m df_clutch \u001B[38;5;241m=\u001B[39m \u001B[43mfiltrar_jugadas_clutch\u001B[49m\u001B[43m(\u001B[49m\u001B[43mdf\u001B[49m\u001B[43m)\u001B[49m\n",
      "Cell \u001B[0;32mIn[31], line 6\u001B[0m, in \u001B[0;36mfiltrar_jugadas_clutch\u001B[0;34m(df)\u001B[0m\n\u001B[1;32m      3\u001B[0m df[\u001B[38;5;124m\"\u001B[39m\u001B[38;5;124mscoremargin\u001B[39m\u001B[38;5;124m\"\u001B[39m] \u001B[38;5;241m=\u001B[39m pd\u001B[38;5;241m.\u001B[39mto_numeric(df[\u001B[38;5;124m\"\u001B[39m\u001B[38;5;124mscoremargin\u001B[39m\u001B[38;5;124m\"\u001B[39m], errors\u001B[38;5;241m=\u001B[39m\u001B[38;5;124m\"\u001B[39m\u001B[38;5;124mcoerce\u001B[39m\u001B[38;5;124m\"\u001B[39m)\u001B[38;5;241m.\u001B[39mastype(\u001B[38;5;124m\"\u001B[39m\u001B[38;5;124mInt16\u001B[39m\u001B[38;5;124m\"\u001B[39m)\n\u001B[1;32m      5\u001B[0m \u001B[38;5;66;03m# Convertir a segundos\u001B[39;00m\n\u001B[0;32m----> 6\u001B[0m mask_time \u001B[38;5;241m=\u001B[39m \u001B[43mdf\u001B[49m\u001B[43m[\u001B[49m\u001B[38;5;124;43m\"\u001B[39;49m\u001B[38;5;124;43mpctimestring\u001B[39;49m\u001B[38;5;124;43m\"\u001B[39;49m\u001B[43m]\u001B[49m\u001B[38;5;241;43m.\u001B[39;49m\u001B[43mstr\u001B[49m\u001B[38;5;241;43m.\u001B[39;49m\u001B[43mmatch\u001B[49m\u001B[43m(\u001B[49m\u001B[38;5;124;43mr\u001B[39;49m\u001B[38;5;124;43m\"\u001B[39;49m\u001B[38;5;124;43m^\u001B[39;49m\u001B[38;5;124;43m\\\u001B[39;49m\u001B[38;5;124;43md\u001B[39;49m\u001B[38;5;124;43m{\u001B[39;49m\u001B[38;5;124;43m1,2}:\u001B[39;49m\u001B[38;5;124;43m\\\u001B[39;49m\u001B[38;5;124;43md\u001B[39;49m\u001B[38;5;132;43;01m{2}\u001B[39;49;00m\u001B[38;5;124;43m$\u001B[39;49m\u001B[38;5;124;43m\"\u001B[39;49m\u001B[43m,\u001B[49m\u001B[43m \u001B[49m\u001B[43mna\u001B[49m\u001B[38;5;241;43m=\u001B[39;49m\u001B[38;5;28;43;01mFalse\u001B[39;49;00m\u001B[43m)\u001B[49m\n\u001B[1;32m      7\u001B[0m mins \u001B[38;5;241m=\u001B[39m pd\u001B[38;5;241m.\u001B[39mto_numeric(df\u001B[38;5;241m.\u001B[39mloc[mask_time, \u001B[38;5;124m\"\u001B[39m\u001B[38;5;124mpctimestring\u001B[39m\u001B[38;5;124m\"\u001B[39m]\u001B[38;5;241m.\u001B[39mstr\u001B[38;5;241m.\u001B[39msplit(\u001B[38;5;124m\"\u001B[39m\u001B[38;5;124m:\u001B[39m\u001B[38;5;124m\"\u001B[39m)\u001B[38;5;241m.\u001B[39mstr[\u001B[38;5;241m0\u001B[39m], errors\u001B[38;5;241m=\u001B[39m\u001B[38;5;124m\"\u001B[39m\u001B[38;5;124mcoerce\u001B[39m\u001B[38;5;124m\"\u001B[39m)\n\u001B[1;32m      8\u001B[0m secs \u001B[38;5;241m=\u001B[39m pd\u001B[38;5;241m.\u001B[39mto_numeric(df\u001B[38;5;241m.\u001B[39mloc[mask_time, \u001B[38;5;124m\"\u001B[39m\u001B[38;5;124mpctimestring\u001B[39m\u001B[38;5;124m\"\u001B[39m]\u001B[38;5;241m.\u001B[39mstr\u001B[38;5;241m.\u001B[39msplit(\u001B[38;5;124m\"\u001B[39m\u001B[38;5;124m:\u001B[39m\u001B[38;5;124m\"\u001B[39m)\u001B[38;5;241m.\u001B[39mstr[\u001B[38;5;241m1\u001B[39m], errors\u001B[38;5;241m=\u001B[39m\u001B[38;5;124m\"\u001B[39m\u001B[38;5;124mcoerce\u001B[39m\u001B[38;5;124m\"\u001B[39m)\n",
      "File \u001B[0;32m~/miniconda3/envs/NLP310/lib/python3.10/site-packages/pandas/core/strings/accessor.py:137\u001B[0m, in \u001B[0;36mforbid_nonstring_types.<locals>._forbid_nonstring_types.<locals>.wrapper\u001B[0;34m(self, *args, **kwargs)\u001B[0m\n\u001B[1;32m    132\u001B[0m     msg \u001B[38;5;241m=\u001B[39m (\n\u001B[1;32m    133\u001B[0m         \u001B[38;5;124mf\u001B[39m\u001B[38;5;124m\"\u001B[39m\u001B[38;5;124mCannot use .str.\u001B[39m\u001B[38;5;132;01m{\u001B[39;00mfunc_name\u001B[38;5;132;01m}\u001B[39;00m\u001B[38;5;124m with values of \u001B[39m\u001B[38;5;124m\"\u001B[39m\n\u001B[1;32m    134\u001B[0m         \u001B[38;5;124mf\u001B[39m\u001B[38;5;124m\"\u001B[39m\u001B[38;5;124minferred dtype \u001B[39m\u001B[38;5;124m'\u001B[39m\u001B[38;5;132;01m{\u001B[39;00m\u001B[38;5;28mself\u001B[39m\u001B[38;5;241m.\u001B[39m_inferred_dtype\u001B[38;5;132;01m}\u001B[39;00m\u001B[38;5;124m'\u001B[39m\u001B[38;5;124m.\u001B[39m\u001B[38;5;124m\"\u001B[39m\n\u001B[1;32m    135\u001B[0m     )\n\u001B[1;32m    136\u001B[0m     \u001B[38;5;28;01mraise\u001B[39;00m \u001B[38;5;167;01mTypeError\u001B[39;00m(msg)\n\u001B[0;32m--> 137\u001B[0m \u001B[38;5;28;01mreturn\u001B[39;00m \u001B[43mfunc\u001B[49m\u001B[43m(\u001B[49m\u001B[38;5;28;43mself\u001B[39;49m\u001B[43m,\u001B[49m\u001B[43m \u001B[49m\u001B[38;5;241;43m*\u001B[39;49m\u001B[43margs\u001B[49m\u001B[43m,\u001B[49m\u001B[43m \u001B[49m\u001B[38;5;241;43m*\u001B[39;49m\u001B[38;5;241;43m*\u001B[39;49m\u001B[43mkwargs\u001B[49m\u001B[43m)\u001B[49m\n",
      "File \u001B[0;32m~/miniconda3/envs/NLP310/lib/python3.10/site-packages/pandas/core/strings/accessor.py:1376\u001B[0m, in \u001B[0;36mStringMethods.match\u001B[0;34m(self, pat, case, flags, na)\u001B[0m\n\u001B[1;32m   1338\u001B[0m \u001B[38;5;129m@forbid_nonstring_types\u001B[39m([\u001B[38;5;124m\"\u001B[39m\u001B[38;5;124mbytes\u001B[39m\u001B[38;5;124m\"\u001B[39m])\n\u001B[1;32m   1339\u001B[0m \u001B[38;5;28;01mdef\u001B[39;00m \u001B[38;5;21mmatch\u001B[39m(\u001B[38;5;28mself\u001B[39m, pat: \u001B[38;5;28mstr\u001B[39m, case: \u001B[38;5;28mbool\u001B[39m \u001B[38;5;241m=\u001B[39m \u001B[38;5;28;01mTrue\u001B[39;00m, flags: \u001B[38;5;28mint\u001B[39m \u001B[38;5;241m=\u001B[39m \u001B[38;5;241m0\u001B[39m, na\u001B[38;5;241m=\u001B[39m\u001B[38;5;28;01mNone\u001B[39;00m):\n\u001B[1;32m   1340\u001B[0m \u001B[38;5;250m    \u001B[39m\u001B[38;5;124;03m\"\"\"\u001B[39;00m\n\u001B[1;32m   1341\u001B[0m \u001B[38;5;124;03m    Determine if each string starts with a match of a regular expression.\u001B[39;00m\n\u001B[1;32m   1342\u001B[0m \n\u001B[0;32m   (...)\u001B[0m\n\u001B[1;32m   1374\u001B[0m \u001B[38;5;124;03m    dtype: bool\u001B[39;00m\n\u001B[1;32m   1375\u001B[0m \u001B[38;5;124;03m    \"\"\"\u001B[39;00m\n\u001B[0;32m-> 1376\u001B[0m     result \u001B[38;5;241m=\u001B[39m \u001B[38;5;28;43mself\u001B[39;49m\u001B[38;5;241;43m.\u001B[39;49m\u001B[43m_data\u001B[49m\u001B[38;5;241;43m.\u001B[39;49m\u001B[43marray\u001B[49m\u001B[38;5;241;43m.\u001B[39;49m\u001B[43m_str_match\u001B[49m\u001B[43m(\u001B[49m\u001B[43mpat\u001B[49m\u001B[43m,\u001B[49m\u001B[43m \u001B[49m\u001B[43mcase\u001B[49m\u001B[38;5;241;43m=\u001B[39;49m\u001B[43mcase\u001B[49m\u001B[43m,\u001B[49m\u001B[43m \u001B[49m\u001B[43mflags\u001B[49m\u001B[38;5;241;43m=\u001B[39;49m\u001B[43mflags\u001B[49m\u001B[43m,\u001B[49m\u001B[43m \u001B[49m\u001B[43mna\u001B[49m\u001B[38;5;241;43m=\u001B[39;49m\u001B[43mna\u001B[49m\u001B[43m)\u001B[49m\n\u001B[1;32m   1377\u001B[0m     \u001B[38;5;28;01mreturn\u001B[39;00m \u001B[38;5;28mself\u001B[39m\u001B[38;5;241m.\u001B[39m_wrap_result(result, fill_value\u001B[38;5;241m=\u001B[39mna, returns_string\u001B[38;5;241m=\u001B[39m\u001B[38;5;28;01mFalse\u001B[39;00m)\n",
      "File \u001B[0;32m~/miniconda3/envs/NLP310/lib/python3.10/site-packages/pandas/core/strings/object_array.py:222\u001B[0m, in \u001B[0;36mObjectStringArrayMixin._str_match\u001B[0;34m(self, pat, case, flags, na)\u001B[0m\n\u001B[1;32m    219\u001B[0m regex \u001B[38;5;241m=\u001B[39m re\u001B[38;5;241m.\u001B[39mcompile(pat, flags\u001B[38;5;241m=\u001B[39mflags)\n\u001B[1;32m    221\u001B[0m f \u001B[38;5;241m=\u001B[39m \u001B[38;5;28;01mlambda\u001B[39;00m x: regex\u001B[38;5;241m.\u001B[39mmatch(x) \u001B[38;5;129;01mis\u001B[39;00m \u001B[38;5;129;01mnot\u001B[39;00m \u001B[38;5;28;01mNone\u001B[39;00m\n\u001B[0;32m--> 222\u001B[0m \u001B[38;5;28;01mreturn\u001B[39;00m \u001B[38;5;28;43mself\u001B[39;49m\u001B[38;5;241;43m.\u001B[39;49m\u001B[43m_str_map\u001B[49m\u001B[43m(\u001B[49m\u001B[43mf\u001B[49m\u001B[43m,\u001B[49m\u001B[43m \u001B[49m\u001B[43mna_value\u001B[49m\u001B[38;5;241;43m=\u001B[39;49m\u001B[43mna\u001B[49m\u001B[43m,\u001B[49m\u001B[43m \u001B[49m\u001B[43mdtype\u001B[49m\u001B[38;5;241;43m=\u001B[39;49m\u001B[43mnp\u001B[49m\u001B[38;5;241;43m.\u001B[39;49m\u001B[43mdtype\u001B[49m\u001B[43m(\u001B[49m\u001B[38;5;28;43mbool\u001B[39;49m\u001B[43m)\u001B[49m\u001B[43m)\u001B[49m\n",
      "File \u001B[0;32m~/miniconda3/envs/NLP310/lib/python3.10/site-packages/pandas/core/strings/object_array.py:75\u001B[0m, in \u001B[0;36mObjectStringArrayMixin._str_map\u001B[0;34m(self, f, na_value, dtype, convert)\u001B[0m\n\u001B[1;32m     72\u001B[0m     \u001B[38;5;28;01mreturn\u001B[39;00m np\u001B[38;5;241m.\u001B[39marray([], dtype\u001B[38;5;241m=\u001B[39mdtype)\n\u001B[1;32m     74\u001B[0m arr \u001B[38;5;241m=\u001B[39m np\u001B[38;5;241m.\u001B[39masarray(\u001B[38;5;28mself\u001B[39m, dtype\u001B[38;5;241m=\u001B[39m\u001B[38;5;28mobject\u001B[39m)\n\u001B[0;32m---> 75\u001B[0m mask \u001B[38;5;241m=\u001B[39m \u001B[43misna\u001B[49m\u001B[43m(\u001B[49m\u001B[43marr\u001B[49m\u001B[43m)\u001B[49m\n\u001B[1;32m     76\u001B[0m map_convert \u001B[38;5;241m=\u001B[39m convert \u001B[38;5;129;01mand\u001B[39;00m \u001B[38;5;129;01mnot\u001B[39;00m np\u001B[38;5;241m.\u001B[39mall(mask)\n\u001B[1;32m     77\u001B[0m \u001B[38;5;28;01mtry\u001B[39;00m:\n",
      "File \u001B[0;32m~/miniconda3/envs/NLP310/lib/python3.10/site-packages/pandas/core/dtypes/missing.py:178\u001B[0m, in \u001B[0;36misna\u001B[0;34m(obj)\u001B[0m\n\u001B[1;32m    101\u001B[0m \u001B[38;5;28;01mdef\u001B[39;00m \u001B[38;5;21misna\u001B[39m(obj: \u001B[38;5;28mobject\u001B[39m) \u001B[38;5;241m-\u001B[39m\u001B[38;5;241m>\u001B[39m \u001B[38;5;28mbool\u001B[39m \u001B[38;5;241m|\u001B[39m npt\u001B[38;5;241m.\u001B[39mNDArray[np\u001B[38;5;241m.\u001B[39mbool_] \u001B[38;5;241m|\u001B[39m NDFrame:\n\u001B[1;32m    102\u001B[0m \u001B[38;5;250m    \u001B[39m\u001B[38;5;124;03m\"\"\"\u001B[39;00m\n\u001B[1;32m    103\u001B[0m \u001B[38;5;124;03m    Detect missing values for an array-like object.\u001B[39;00m\n\u001B[1;32m    104\u001B[0m \n\u001B[0;32m   (...)\u001B[0m\n\u001B[1;32m    176\u001B[0m \u001B[38;5;124;03m    Name: 1, dtype: bool\u001B[39;00m\n\u001B[1;32m    177\u001B[0m \u001B[38;5;124;03m    \"\"\"\u001B[39;00m\n\u001B[0;32m--> 178\u001B[0m     \u001B[38;5;28;01mreturn\u001B[39;00m \u001B[43m_isna\u001B[49m\u001B[43m(\u001B[49m\u001B[43mobj\u001B[49m\u001B[43m)\u001B[49m\n",
      "File \u001B[0;32m~/miniconda3/envs/NLP310/lib/python3.10/site-packages/pandas/core/dtypes/missing.py:207\u001B[0m, in \u001B[0;36m_isna\u001B[0;34m(obj, inf_as_na)\u001B[0m\n\u001B[1;32m    205\u001B[0m     \u001B[38;5;28;01mreturn\u001B[39;00m \u001B[38;5;28;01mFalse\u001B[39;00m\n\u001B[1;32m    206\u001B[0m \u001B[38;5;28;01melif\u001B[39;00m \u001B[38;5;28misinstance\u001B[39m(obj, (np\u001B[38;5;241m.\u001B[39mndarray, ABCExtensionArray)):\n\u001B[0;32m--> 207\u001B[0m     \u001B[38;5;28;01mreturn\u001B[39;00m \u001B[43m_isna_array\u001B[49m\u001B[43m(\u001B[49m\u001B[43mobj\u001B[49m\u001B[43m,\u001B[49m\u001B[43m \u001B[49m\u001B[43minf_as_na\u001B[49m\u001B[38;5;241;43m=\u001B[39;49m\u001B[43minf_as_na\u001B[49m\u001B[43m)\u001B[49m\n\u001B[1;32m    208\u001B[0m \u001B[38;5;28;01melif\u001B[39;00m \u001B[38;5;28misinstance\u001B[39m(obj, ABCIndex):\n\u001B[1;32m    209\u001B[0m     \u001B[38;5;66;03m# Try to use cached isna, which also short-circuits for integer dtypes\u001B[39;00m\n\u001B[1;32m    210\u001B[0m     \u001B[38;5;66;03m#  and avoids materializing RangeIndex._values\u001B[39;00m\n\u001B[1;32m    211\u001B[0m     \u001B[38;5;28;01mif\u001B[39;00m \u001B[38;5;129;01mnot\u001B[39;00m obj\u001B[38;5;241m.\u001B[39m_can_hold_na:\n",
      "File \u001B[0;32m~/miniconda3/envs/NLP310/lib/python3.10/site-packages/pandas/core/dtypes/missing.py:292\u001B[0m, in \u001B[0;36m_isna_array\u001B[0;34m(values, inf_as_na)\u001B[0m\n\u001B[1;32m    290\u001B[0m     result \u001B[38;5;241m=\u001B[39m _isna_recarray_dtype(values, inf_as_na\u001B[38;5;241m=\u001B[39minf_as_na)\n\u001B[1;32m    291\u001B[0m \u001B[38;5;28;01melif\u001B[39;00m is_string_or_object_np_dtype(values\u001B[38;5;241m.\u001B[39mdtype):\n\u001B[0;32m--> 292\u001B[0m     result \u001B[38;5;241m=\u001B[39m \u001B[43m_isna_string_dtype\u001B[49m\u001B[43m(\u001B[49m\u001B[43mvalues\u001B[49m\u001B[43m,\u001B[49m\u001B[43m \u001B[49m\u001B[43minf_as_na\u001B[49m\u001B[38;5;241;43m=\u001B[39;49m\u001B[43minf_as_na\u001B[49m\u001B[43m)\u001B[49m\n\u001B[1;32m    293\u001B[0m \u001B[38;5;28;01melif\u001B[39;00m dtype\u001B[38;5;241m.\u001B[39mkind \u001B[38;5;129;01min\u001B[39;00m \u001B[38;5;124m\"\u001B[39m\u001B[38;5;124mmM\u001B[39m\u001B[38;5;124m\"\u001B[39m:\n\u001B[1;32m    294\u001B[0m     \u001B[38;5;66;03m# this is the NaT pattern\u001B[39;00m\n\u001B[1;32m    295\u001B[0m     result \u001B[38;5;241m=\u001B[39m values\u001B[38;5;241m.\u001B[39mview(\u001B[38;5;124m\"\u001B[39m\u001B[38;5;124mi8\u001B[39m\u001B[38;5;124m\"\u001B[39m) \u001B[38;5;241m==\u001B[39m iNaT\n",
      "File \u001B[0;32m~/miniconda3/envs/NLP310/lib/python3.10/site-packages/pandas/core/dtypes/missing.py:313\u001B[0m, in \u001B[0;36m_isna_string_dtype\u001B[0;34m(values, inf_as_na)\u001B[0m\n\u001B[1;32m    311\u001B[0m \u001B[38;5;28;01melse\u001B[39;00m:\n\u001B[1;32m    312\u001B[0m     \u001B[38;5;28;01mif\u001B[39;00m values\u001B[38;5;241m.\u001B[39mndim \u001B[38;5;129;01min\u001B[39;00m {\u001B[38;5;241m1\u001B[39m, \u001B[38;5;241m2\u001B[39m}:\n\u001B[0;32m--> 313\u001B[0m         result \u001B[38;5;241m=\u001B[39m \u001B[43mlibmissing\u001B[49m\u001B[38;5;241;43m.\u001B[39;49m\u001B[43misnaobj\u001B[49m\u001B[43m(\u001B[49m\u001B[43mvalues\u001B[49m\u001B[43m,\u001B[49m\u001B[43m \u001B[49m\u001B[43minf_as_na\u001B[49m\u001B[38;5;241;43m=\u001B[39;49m\u001B[43minf_as_na\u001B[49m\u001B[43m)\u001B[49m\n\u001B[1;32m    314\u001B[0m     \u001B[38;5;28;01melse\u001B[39;00m:\n\u001B[1;32m    315\u001B[0m         \u001B[38;5;66;03m# 0-D, reached via e.g. mask_missing\u001B[39;00m\n\u001B[1;32m    316\u001B[0m         result \u001B[38;5;241m=\u001B[39m libmissing\u001B[38;5;241m.\u001B[39misnaobj(values\u001B[38;5;241m.\u001B[39mravel(), inf_as_na\u001B[38;5;241m=\u001B[39minf_as_na)\n",
      "\u001B[0;31mKeyboardInterrupt\u001B[0m: "
     ]
    }
   ],
   "execution_count": 32
  }
 ],
 "metadata": {
  "kernelspec": {
   "display_name": "Python 3",
   "language": "python",
   "name": "python3"
  },
  "language_info": {
   "codemirror_mode": {
    "name": "ipython",
    "version": 2
   },
   "file_extension": ".py",
   "mimetype": "text/x-python",
   "name": "python",
   "nbconvert_exporter": "python",
   "pygments_lexer": "ipython2",
   "version": "2.7.6"
  }
 },
 "nbformat": 4,
 "nbformat_minor": 5
}
